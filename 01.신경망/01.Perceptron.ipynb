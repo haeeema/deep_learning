{
 "cells": [
  {
   "cell_type": "markdown",
   "metadata": {},
   "source": [
    "# Perceptron"
   ]
  },
  {
   "cell_type": "code",
   "execution_count": 12,
   "metadata": {},
   "outputs": [],
   "source": [
    "import numpy as np"
   ]
  },
  {
   "cell_type": "markdown",
   "metadata": {},
   "source": [
    "- AND gate"
   ]
  },
  {
   "cell_type": "code",
   "execution_count": 13,
   "metadata": {},
   "outputs": [
    {
     "data": {
      "text/plain": [
       "(array([1, 1]), 1, 1, numpy.ndarray)"
      ]
     },
     "execution_count": 13,
     "metadata": {},
     "output_type": "execute_result"
    }
   ],
   "source": [
    "weight = np.array([1, 1])\n",
    "weight, weight[0], weight[1], type(weight)"
   ]
  },
  {
   "cell_type": "code",
   "execution_count": 14,
   "metadata": {},
   "outputs": [
    {
     "name": "stdout",
     "output_type": "stream",
     "text": [
      "(x1, x2) = (0, 0) => sum = -1\n",
      "(x1, x2) = (0, 1) => sum = 0\n",
      "(x1, x2) = (1, 0) => sum = 0\n",
      "(x1, x2) = (1, 1) => sum = 1\n"
     ]
    }
   ],
   "source": [
    "# Weighted sum, afferent sum\n",
    "bias = -1\n",
    "for x1, x2 in [(0, 0), (0, 1), (1, 0), (1, 1)]:\n",
    "    sum = weight[0] * x1 + weight[1] * x2 + bias\n",
    "    print(f'(x1, x2) = ({x1}, {x2}) => sum = {sum}')"
   ]
  },
  {
   "cell_type": "code",
   "execution_count": 15,
   "metadata": {},
   "outputs": [
    {
     "name": "stdout",
     "output_type": "stream",
     "text": [
      "(x1, x2) = (0, 0) => result = 0\n",
      "(x1, x2) = (0, 1) => result = 0\n",
      "(x1, x2) = (1, 0) => result = 0\n",
      "(x1, x2) = (1, 1) => result = 1\n"
     ]
    }
   ],
   "source": [
    "# Step Function\n",
    "for x1, x2 in [(0, 0), (0, 1), (1, 0), (1, 1)]:\n",
    "    sum = weight[0] * x1 + weight[1] * x2 + bias\n",
    "    result = 1 if sum > 0 else 0\n",
    "    print(f'(x1, x2) = ({x1}, {x2}) => result = {result}')"
   ]
  },
  {
   "cell_type": "code",
   "execution_count": 16,
   "metadata": {},
   "outputs": [
    {
     "name": "stdout",
     "output_type": "stream",
     "text": [
      "x = (0, 0) => result = 0\n",
      "x = (0, 1) => result = 0\n",
      "x = (1, 0) => result = 0\n",
      "x = (1, 1) => result = 1\n"
     ]
    }
   ],
   "source": [
    "for x in [(0, 0), (0, 1), (1, 0), (1, 1)]:\n",
    "    sum = np.dot(weight, x) + bias\n",
    "    result = 1 if sum > 0 else 0\n",
    "    print(f'x = {x} => result = {result}')"
   ]
  },
  {
   "cell_type": "code",
   "execution_count": 17,
   "metadata": {},
   "outputs": [],
   "source": [
    "def AND_gate(x):\n",
    "    weight = np.array([1, 1])\n",
    "    bias = -1\n",
    "    sum = np.dot(weight, x) + bias\n",
    "    result = 1 if sum > 0 else 0\n",
    "    return result"
   ]
  },
  {
   "cell_type": "code",
   "execution_count": 18,
   "metadata": {},
   "outputs": [
    {
     "name": "stdout",
     "output_type": "stream",
     "text": [
      "x = (0, 0) => result = 0\n",
      "x = (0, 1) => result = 0\n",
      "x = (1, 0) => result = 0\n",
      "x = (1, 1) => result = 1\n"
     ]
    }
   ],
   "source": [
    "for x in [(0, 0), (0, 1), (1, 0), (1, 1)]:\n",
    "    result = AND_gate(x)\n",
    "    print(f'x = {x} => result = {result}')"
   ]
  },
  {
   "cell_type": "markdown",
   "metadata": {},
   "source": [
    "- OR gate"
   ]
  },
  {
   "cell_type": "code",
   "execution_count": 19,
   "metadata": {},
   "outputs": [],
   "source": [
    "def OR_gate(X):\n",
    "    weight = np.array([2, 2])\n",
    "    bias = -1\n",
    "    sum = np.dot(weight, x) + bias\n",
    "    result = 1 if sum > 0 else 0\n",
    "    return result"
   ]
  },
  {
   "cell_type": "code",
   "execution_count": 20,
   "metadata": {},
   "outputs": [
    {
     "name": "stdout",
     "output_type": "stream",
     "text": [
      "x = (0, 0) => result = 0\n",
      "x = (0, 1) => result = 1\n",
      "x = (1, 0) => result = 1\n",
      "x = (1, 1) => result = 1\n"
     ]
    }
   ],
   "source": [
    "for x in [(0, 0), (0, 1), (1, 0), (1, 1)]:\n",
    "    result = OR_gate(x)\n",
    "    print(f'x = {x} => result = {result}')"
   ]
  },
  {
   "cell_type": "markdown",
   "metadata": {},
   "source": [
    "- NAND gate"
   ]
  },
  {
   "cell_type": "code",
   "execution_count": 21,
   "metadata": {},
   "outputs": [],
   "source": [
    "def NAND_gate(x):\n",
    "    weight = np.array([-2, -2])\n",
    "    bias = 3\n",
    "    sum = np.dot(weight, x) + bias\n",
    "    result = 1 if sum > 0 else 0\n",
    "    return result"
   ]
  },
  {
   "cell_type": "code",
   "execution_count": 22,
   "metadata": {},
   "outputs": [
    {
     "name": "stdout",
     "output_type": "stream",
     "text": [
      "x = (0, 0) => result = 1\n",
      "x = (0, 1) => result = 1\n",
      "x = (1, 0) => result = 1\n",
      "x = (1, 1) => result = 0\n"
     ]
    }
   ],
   "source": [
    "\n",
    "for x in [(0, 0), (0, 1), (1, 0), (1, 1)]:\n",
    "    result = NAND_gate(x)\n",
    "    print(f'x = {x} => result = {result}')"
   ]
  },
  {
   "cell_type": "code",
   "execution_count": 24,
   "metadata": {},
   "outputs": [
    {
     "name": "stdout",
     "output_type": "stream",
     "text": [
      "X\t\tOR\tAND\tNAND\n",
      "(0, 0)\t\t0\t0\t1\n",
      "(0, 1)\t\t1\t0\t1\n",
      "(1, 0)\t\t1\t0\t1\n",
      "(1, 1)\t\t1\t1\t0\n"
     ]
    }
   ],
   "source": [
    "print('X\\t\\tOR\\tAND\\tNAND')\n",
    "for x in [(0, 0), (0, 1), (1, 0), (1, 1)]:\n",
    "    result_OR = OR_gate(x)\n",
    "    result_AND = AND_gate(x)\n",
    "    result_NAND = NAND_gate(x)\n",
    "    print(f'{x}\\t\\t{result_OR}\\t{result_AND}\\t{result_NAND}')"
   ]
  },
  {
   "cell_type": "code",
   "execution_count": null,
   "metadata": {},
   "outputs": [],
   "source": []
  }
 ],
 "metadata": {
  "kernelspec": {
   "display_name": "base",
   "language": "python",
   "name": "python3"
  },
  "language_info": {
   "codemirror_mode": {
    "name": "ipython",
    "version": 3
   },
   "file_extension": ".py",
   "mimetype": "text/x-python",
   "name": "python",
   "nbconvert_exporter": "python",
   "pygments_lexer": "ipython3",
   "version": "3.11.5"
  }
 },
 "nbformat": 4,
 "nbformat_minor": 2
}
