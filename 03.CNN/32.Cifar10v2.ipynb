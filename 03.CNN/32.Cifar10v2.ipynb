{
  "nbformat": 4,
  "nbformat_minor": 0,
  "metadata": {
    "colab": {
      "provenance": [],
      "gpuType": "T4"
    },
    "kernelspec": {
      "name": "python3",
      "display_name": "Python 3"
    },
    "language_info": {
      "name": "python"
    },
    "accelerator": "GPU"
  },
  "cells": [
    {
      "cell_type": "markdown",
      "source": [
        "### Cifar-10 이미지 분류 - v2\n",
        "- Canadian Institute for Advanced Research 10\n",
        "- 데이터 부풀리기 사용"
      ],
      "metadata": {
        "id": "ap3wFZ_i6CpD"
      }
    },
    {
      "cell_type": "code",
      "execution_count": 1,
      "metadata": {
        "id": "_hrS6STi59ug"
      },
      "outputs": [],
      "source": [
        "import numpy as np\n",
        "import matplotlib.pyplot as plt\n",
        "import tensorflow as tf\n",
        "seed = 2023\n",
        "np.random.seed(seed)\n",
        "tf.random.set_seed(seed)"
      ]
    },
    {
      "cell_type": "markdown",
      "source": [
        "- Data preprocessing"
      ],
      "metadata": {
        "id": "EwfYr8UA6YIa"
      }
    },
    {
      "cell_type": "code",
      "source": [
        "from tensorflow.keras.datasets import cifar10\n",
        "(X_train, y_train), (X_test, y_test) = cifar10.load_data()"
      ],
      "metadata": {
        "colab": {
          "base_uri": "https://localhost:8080/"
        },
        "id": "qGhUzXMM6TMN",
        "outputId": "756e17e0-09bf-4fea-e1c2-097d363b3594"
      },
      "execution_count": 2,
      "outputs": [
        {
          "output_type": "stream",
          "name": "stdout",
          "text": [
            "Downloading data from https://www.cs.toronto.edu/~kriz/cifar-10-python.tar.gz\n",
            "170498071/170498071 [==============================] - 6s 0us/step\n"
          ]
        }
      ]
    },
    {
      "cell_type": "code",
      "source": [
        "# X data scaling\n",
        "X_train = X_train / 255.\n",
        "X_test = X_test / 255."
      ],
      "metadata": {
        "id": "fHjy2lUH6cx0"
      },
      "execution_count": 3,
      "outputs": []
    },
    {
      "cell_type": "code",
      "source": [
        "# y data one-hot-encoding\n",
        "from tensorflow.keras.utils import to_categorical\n",
        "Y_train = to_categorical(y_train)\n",
        "Y_test = to_categorical(y_test)"
      ],
      "metadata": {
        "id": "7MZ1fCnQ67Gq"
      },
      "execution_count": 4,
      "outputs": []
    },
    {
      "cell_type": "markdown",
      "source": [
        "- 모델 정의/설정/학습/평가"
      ],
      "metadata": {
        "id": "5fkGDgG67DxD"
      }
    },
    {
      "cell_type": "code",
      "source": [
        "from tensorflow.keras.models import Sequential, load_model\n",
        "from tensorflow.keras.layers import Dense, Conv2D, MaxPooling2D, Flatten, Dropout\n",
        "from tensorflow.keras.callbacks import ModelCheckpoint, EarlyStopping"
      ],
      "metadata": {
        "id": "plDSFR0969MQ"
      },
      "execution_count": 5,
      "outputs": []
    },
    {
      "cell_type": "code",
      "source": [
        "model = Sequential([\n",
        "    Conv2D(32, (3,3), input_shape=X_train.shape[1:], padding='same', activation='relu'),\n",
        "    Conv2D(32, (3,3), activation='relu'),\n",
        "    MaxPooling2D(),\n",
        "    Dropout(0.25),\n",
        "    Conv2D(64, (3,3), padding='same', activation='relu'),\n",
        "    Conv2D(64, (3,3), activation='relu'),\n",
        "    MaxPooling2D(),\n",
        "    Dropout(0.25),\n",
        "    Flatten(),\n",
        "    Dense(512, activation='relu'),\n",
        "    Dropout(0.5),\n",
        "    Dense(10, activation='softmax')\n",
        "])"
      ],
      "metadata": {
        "id": "ES_wfnCa7Hou"
      },
      "execution_count": 6,
      "outputs": []
    },
    {
      "cell_type": "code",
      "source": [
        "model.compile('adam', 'categorical_crossentropy', ['accuracy'])\n",
        "\n",
        "model_path = 'best-cifar10-v2.h5'\n",
        "mc = ModelCheckpoint(model_path, save_best_only=True, verbose=1)\n",
        "es = EarlyStopping(patience=5)"
      ],
      "metadata": {
        "id": "VL3qyipi7M-t"
      },
      "execution_count": 7,
      "outputs": []
    },
    {
      "cell_type": "markdown",
      "source": [
        "# - 데이터 부풀리기"
      ],
      "metadata": {
        "id": "j_gN8h1N7aOq"
      }
    },
    {
      "cell_type": "code",
      "source": [
        "from sklearn.model_selection import train_test_split\n",
        "X_train, X_valid, Y_train, Y_valid = train_test_split(\n",
        "    X_train, Y_train, stratify=Y_train, test_size=0.2, random_state=seed\n",
        ")"
      ],
      "metadata": {
        "id": "KLpeef_L7U6_"
      },
      "execution_count": 8,
      "outputs": []
    },
    {
      "cell_type": "code",
      "source": [
        "from tensorflow.keras.preprocessing.image import ImageDataGenerator\n",
        "\n",
        "train_datagen = ImageDataGenerator(\n",
        "    rotation_range=10,          # randomly rotata images in the range (degree 0 to 15)\n",
        "    width_shift_range=0.1,      # randomly shift images horizontally\n",
        "    height_shift_range=0.1,     # randomly shift images vertically\n",
        "    shear_range=0.1,            # 도형의 기울기\n",
        "    zoom_range=[0.8,1.2],        # 0.8~1.5 배 크기로 임의로 확대/축소\n",
        "    horizontal_flip=True,       # randomly flip images\n",
        "    vertical_flip=False,\n",
        "    fill_mode='nearest',        # set mode for filling points outside the input boundaries\n",
        ")"
      ],
      "metadata": {
        "id": "2uvNwc5T74w8"
      },
      "execution_count": 9,
      "outputs": []
    },
    {
      "cell_type": "code",
      "source": [
        "train_datagen.fit(X_train)"
      ],
      "metadata": {
        "id": "es0mscGu8afb"
      },
      "execution_count": 10,
      "outputs": []
    },
    {
      "cell_type": "markdown",
      "source": [
        "- 데이터 부풀리기를 한 결과로 학습"
      ],
      "metadata": {
        "id": "aJ3yLfIT8rzS"
      }
    },
    {
      "cell_type": "code",
      "source": [
        "hist = model.fit(\n",
        "    train_datagen.flow(X_train, Y_train, batch_size=32),\n",
        "    validation_data=(X_valid, Y_valid),\n",
        "    epochs=100, verbose=0,\n",
        "    callbacks=[mc, es]\n",
        ")"
      ],
      "metadata": {
        "colab": {
          "base_uri": "https://localhost:8080/"
        },
        "id": "YpukGVRJ8oDt",
        "outputId": "0965eb89-da0f-4c46-d5d5-ea84ef9b7155"
      },
      "execution_count": 11,
      "outputs": [
        {
          "output_type": "stream",
          "name": "stdout",
          "text": [
            "\n",
            "Epoch 1: val_loss improved from inf to 1.34754, saving model to best-cifar10-v2.h5\n"
          ]
        },
        {
          "output_type": "stream",
          "name": "stderr",
          "text": [
            "/usr/local/lib/python3.10/dist-packages/keras/src/engine/training.py:3079: UserWarning: You are saving your model as an HDF5 file via `model.save()`. This file format is considered legacy. We recommend using instead the native Keras format, e.g. `model.save('my_model.keras')`.\n",
            "  saving_api.save_model(\n"
          ]
        },
        {
          "output_type": "stream",
          "name": "stdout",
          "text": [
            "\n",
            "Epoch 2: val_loss improved from 1.34754 to 1.12170, saving model to best-cifar10-v2.h5\n",
            "\n",
            "Epoch 3: val_loss improved from 1.12170 to 0.98904, saving model to best-cifar10-v2.h5\n",
            "\n",
            "Epoch 4: val_loss improved from 0.98904 to 0.98046, saving model to best-cifar10-v2.h5\n",
            "\n",
            "Epoch 5: val_loss did not improve from 0.98046\n",
            "\n",
            "Epoch 6: val_loss improved from 0.98046 to 0.90545, saving model to best-cifar10-v2.h5\n",
            "\n",
            "Epoch 7: val_loss improved from 0.90545 to 0.86690, saving model to best-cifar10-v2.h5\n",
            "\n",
            "Epoch 8: val_loss did not improve from 0.86690\n",
            "\n",
            "Epoch 9: val_loss did not improve from 0.86690\n",
            "\n",
            "Epoch 10: val_loss improved from 0.86690 to 0.79748, saving model to best-cifar10-v2.h5\n",
            "\n",
            "Epoch 11: val_loss improved from 0.79748 to 0.78376, saving model to best-cifar10-v2.h5\n",
            "\n",
            "Epoch 12: val_loss improved from 0.78376 to 0.76763, saving model to best-cifar10-v2.h5\n",
            "\n",
            "Epoch 13: val_loss improved from 0.76763 to 0.73432, saving model to best-cifar10-v2.h5\n",
            "\n",
            "Epoch 14: val_loss did not improve from 0.73432\n",
            "\n",
            "Epoch 15: val_loss did not improve from 0.73432\n",
            "\n",
            "Epoch 16: val_loss did not improve from 0.73432\n",
            "\n",
            "Epoch 17: val_loss did not improve from 0.73432\n",
            "\n",
            "Epoch 18: val_loss improved from 0.73432 to 0.72786, saving model to best-cifar10-v2.h5\n",
            "\n",
            "Epoch 19: val_loss improved from 0.72786 to 0.71801, saving model to best-cifar10-v2.h5\n",
            "\n",
            "Epoch 20: val_loss did not improve from 0.71801\n",
            "\n",
            "Epoch 21: val_loss improved from 0.71801 to 0.68497, saving model to best-cifar10-v2.h5\n",
            "\n",
            "Epoch 22: val_loss did not improve from 0.68497\n",
            "\n",
            "Epoch 23: val_loss did not improve from 0.68497\n",
            "\n",
            "Epoch 24: val_loss did not improve from 0.68497\n",
            "\n",
            "Epoch 25: val_loss improved from 0.68497 to 0.68008, saving model to best-cifar10-v2.h5\n",
            "\n",
            "Epoch 26: val_loss did not improve from 0.68008\n",
            "\n",
            "Epoch 27: val_loss did not improve from 0.68008\n",
            "\n",
            "Epoch 28: val_loss did not improve from 0.68008\n",
            "\n",
            "Epoch 29: val_loss did not improve from 0.68008\n",
            "\n",
            "Epoch 30: val_loss improved from 0.68008 to 0.64560, saving model to best-cifar10-v2.h5\n",
            "\n",
            "Epoch 31: val_loss did not improve from 0.64560\n",
            "\n",
            "Epoch 32: val_loss did not improve from 0.64560\n",
            "\n",
            "Epoch 33: val_loss did not improve from 0.64560\n",
            "\n",
            "Epoch 34: val_loss did not improve from 0.64560\n",
            "\n",
            "Epoch 35: val_loss did not improve from 0.64560\n"
          ]
        }
      ]
    },
    {
      "cell_type": "code",
      "source": [
        "best_model = load_model(model_path)\n",
        "best_model.evaluate(X_test, Y_test)"
      ],
      "metadata": {
        "colab": {
          "base_uri": "https://localhost:8080/"
        },
        "id": "cxdywxcv9UQq",
        "outputId": "75b27e77-3944-4dc2-b332-3704ccc2f69d"
      },
      "execution_count": 12,
      "outputs": [
        {
          "output_type": "stream",
          "name": "stdout",
          "text": [
            "313/313 [==============================] - 1s 4ms/step - loss: 0.6659 - accuracy: 0.7705\n"
          ]
        },
        {
          "output_type": "execute_result",
          "data": {
            "text/plain": [
              "[0.6659010052680969, 0.7705000042915344]"
            ]
          },
          "metadata": {},
          "execution_count": 12
        }
      ]
    }
  ]
}