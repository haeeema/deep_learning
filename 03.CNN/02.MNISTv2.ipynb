{
  "cells": [
    {
      "cell_type": "markdown",
      "metadata": {
        "id": "o-Chx6Yle_hG"
      },
      "source": [
        "### MNIST 손글씨 - CNN v2\n",
        "- 2 x Conv2D layers\n",
        "-- 1 MaxPooling2D layer\n",
        "- 1 FCN layer\n",
        "- 1 Output layer"
      ]
    },
    {
      "cell_type": "code",
      "execution_count": 1,
      "metadata": {
        "id": "4_WSJF41eyA-"
      },
      "outputs": [],
      "source": [
        "import numpy as np\n",
        "import matplotlib.pyplot as plt\n",
        "import tensorflow as tf\n",
        "seed = 2023\n",
        "np.random.seed(seed)\n",
        "tf.random.set_seed(seed)"
      ]
    },
    {
      "cell_type": "code",
      "execution_count": 2,
      "metadata": {
        "colab": {
          "base_uri": "https://localhost:8080/",
          "height": 35
        },
        "id": "45j8oEYGfjYe",
        "outputId": "697e0cc2-058a-40e8-8cf4-1c70ae4e4ee8"
      },
      "outputs": [
        {
          "output_type": "execute_result",
          "data": {
            "text/plain": [
              "'2.14.0'"
            ],
            "application/vnd.google.colaboratory.intrinsic+json": {
              "type": "string"
            }
          },
          "metadata": {},
          "execution_count": 2
        }
      ],
      "source": [
        "tf.__version__"
      ]
    },
    {
      "cell_type": "markdown",
      "metadata": {
        "id": "HlHpqEI6feR9"
      },
      "source": [
        "- Data preprocessing"
      ]
    },
    {
      "cell_type": "code",
      "execution_count": 3,
      "metadata": {
        "colab": {
          "base_uri": "https://localhost:8080/"
        },
        "id": "AhUjBA1EfZ08",
        "outputId": "954de362-05c1-410b-d747-91a8c38b9344"
      },
      "outputs": [
        {
          "output_type": "stream",
          "name": "stdout",
          "text": [
            "Downloading data from https://storage.googleapis.com/tensorflow/tf-keras-datasets/mnist.npz\n",
            "11490434/11490434 [==============================] - 0s 0us/step\n"
          ]
        },
        {
          "output_type": "execute_result",
          "data": {
            "text/plain": [
              "((60000, 28, 28), (60000,), (10000, 28, 28), (10000,))"
            ]
          },
          "metadata": {},
          "execution_count": 3
        }
      ],
      "source": [
        "from tensorflow.keras.datasets import mnist\n",
        "(X_train, y_train), (X_test, y_test) = mnist.load_data()\n",
        "X_train.shape, y_train.shape, X_test.shape, y_test.shape"
      ]
    },
    {
      "cell_type": "code",
      "execution_count": 4,
      "metadata": {
        "id": "oeLat_JUftGX"
      },
      "outputs": [],
      "source": [
        "# X_data의 차원 병경 및 정규화(0 ~ 1)\n",
        "X_train = X_train.reshape(-1, 28, 28, 1) / 255.\n",
        "X_test = X_test.reshape(-1, 28, 28, 1) / 255."
      ]
    },
    {
      "cell_type": "code",
      "execution_count": 5,
      "metadata": {
        "colab": {
          "base_uri": "https://localhost:8080/"
        },
        "id": "9gDqzgtzgZ_M",
        "outputId": "7162e3db-9b0e-4b67-eddf-0a67e1092886"
      },
      "outputs": [
        {
          "output_type": "execute_result",
          "data": {
            "text/plain": [
              "((60000, 10), (10000, 10))"
            ]
          },
          "metadata": {},
          "execution_count": 5
        }
      ],
      "source": [
        "# y_data의 one-hot-encoding\n",
        "from tensorflow.keras.utils import to_categorical\n",
        "Y_train = to_categorical(y_train)\n",
        "Y_test = to_categorical(y_test)\n",
        "Y_train.shape, Y_test.shape"
      ]
    },
    {
      "cell_type": "markdown",
      "metadata": {
        "id": "1_VA8IX7g8H9"
      },
      "source": [
        "- 모델 정의/설정/학습/평가"
      ]
    },
    {
      "cell_type": "code",
      "execution_count": 6,
      "metadata": {
        "id": "4Wc3Or_jg1AV"
      },
      "outputs": [],
      "source": [
        "from tensorflow.keras.models import Sequential, load_model\n",
        "from tensorflow.keras.layers import Conv2D, Dense, Flatten, MaxPooling2D\n",
        "from tensorflow.keras.callbacks import ModelCheckpoint, EarlyStopping"
      ]
    },
    {
      "cell_type": "code",
      "execution_count": 7,
      "metadata": {
        "colab": {
          "base_uri": "https://localhost:8080/"
        },
        "id": "OEYtCFfGhZFc",
        "outputId": "9fb6f23f-6278-45c4-fb33-0f186535b470"
      },
      "outputs": [
        {
          "output_type": "stream",
          "name": "stdout",
          "text": [
            "Model: \"sequential\"\n",
            "_________________________________________________________________\n",
            " Layer (type)                Output Shape              Param #   \n",
            "=================================================================\n",
            " conv2d (Conv2D)             (None, 26, 26, 32)        320       \n",
            "                                                                 \n",
            " conv2d_1 (Conv2D)           (None, 24, 24, 64)        18496     \n",
            "                                                                 \n",
            " max_pooling2d (MaxPooling2  (None, 12, 12, 64)        0         \n",
            " D)                                                              \n",
            "                                                                 \n",
            " flatten (Flatten)           (None, 9216)              0         \n",
            "                                                                 \n",
            " dense (Dense)               (None, 512)               4719104   \n",
            "                                                                 \n",
            " dense_1 (Dense)             (None, 10)                5130      \n",
            "                                                                 \n",
            "=================================================================\n",
            "Total params: 4743050 (18.09 MB)\n",
            "Trainable params: 4743050 (18.09 MB)\n",
            "Non-trainable params: 0 (0.00 Byte)\n",
            "_________________________________________________________________\n"
          ]
        }
      ],
      "source": [
        "from keras.api._v2.keras import activations\n",
        "model = Sequential([\n",
        "    Conv2D(32, kernel_size=(3, 3), input_shape=(28, 28, 1), activation='relu'),\n",
        "    Conv2D(64, (3, 3), activation='relu'),\n",
        "    MaxPooling2D(),\n",
        "    Flatten(),\n",
        "    Dense(512, activation='relu'),\n",
        "    Dense(10, activation='softmax')\n",
        "])\n",
        "model.summary()"
      ]
    },
    {
      "cell_type": "code",
      "execution_count": 8,
      "metadata": {
        "id": "dU-6kjJsiUez"
      },
      "outputs": [],
      "source": [
        "model.compile('adam', 'categorical_crossentropy', metrics=['accuracy'])"
      ]
    },
    {
      "cell_type": "code",
      "execution_count": 9,
      "metadata": {
        "colab": {
          "base_uri": "https://localhost:8080/"
        },
        "id": "SPlz7vGgkQ3m",
        "outputId": "484ede8f-9836-4479-d1ce-bc2f8b8d3059"
      },
      "outputs": [
        {
          "output_type": "stream",
          "name": "stdout",
          "text": [
            "total 8\n",
            "drwxr-xr-x 2 root root 4096 Nov  8 02:06 models\n",
            "drwxr-xr-x 1 root root 4096 Nov  6 14:20 sample_data\n"
          ]
        }
      ],
      "source": [
        "!mkdir models\n",
        "!ls -l"
      ]
    },
    {
      "cell_type": "code",
      "execution_count": 10,
      "metadata": {
        "id": "Ts3s1lO7j-zf"
      },
      "outputs": [],
      "source": [
        "model_path = 'models/best-mnist-v2.h5'\n",
        "mc = ModelCheckpoint(model_path, save_best_only=True, verbose=1)\n",
        "es = EarlyStopping(patience=5)"
      ]
    },
    {
      "cell_type": "code",
      "execution_count": 11,
      "metadata": {
        "colab": {
          "base_uri": "https://localhost:8080/"
        },
        "id": "Fb9BIOSKk-1N",
        "outputId": "fbc0e090-d5fb-4ab3-89b3-d1c7c7dd9dcf"
      },
      "outputs": [
        {
          "output_type": "stream",
          "name": "stdout",
          "text": [
            "Epoch 1/100\n",
            "188/188 [==============================] - ETA: 0s - loss: 0.2090 - accuracy: 0.9364\n",
            "Epoch 1: val_loss improved from inf to 0.06133, saving model to models/best-mnist-v2.h5\n",
            "188/188 [==============================] - 14s 18ms/step - loss: 0.2090 - accuracy: 0.9364 - val_loss: 0.0613 - val_accuracy: 0.9826\n",
            "Epoch 2/100\n",
            "  5/188 [..............................] - ETA: 2s - loss: 0.0528 - accuracy: 0.9820"
          ]
        },
        {
          "output_type": "stream",
          "name": "stderr",
          "text": [
            "/usr/local/lib/python3.10/dist-packages/keras/src/engine/training.py:3079: UserWarning: You are saving your model as an HDF5 file via `model.save()`. This file format is considered legacy. We recommend using instead the native Keras format, e.g. `model.save('my_model.keras')`.\n",
            "  saving_api.save_model(\n"
          ]
        },
        {
          "output_type": "stream",
          "name": "stdout",
          "text": [
            "187/188 [============================>.] - ETA: 0s - loss: 0.0512 - accuracy: 0.9842\n",
            "Epoch 2: val_loss improved from 0.06133 to 0.04960, saving model to models/best-mnist-v2.h5\n",
            "188/188 [==============================] - 3s 16ms/step - loss: 0.0511 - accuracy: 0.9843 - val_loss: 0.0496 - val_accuracy: 0.9845\n",
            "Epoch 3/100\n",
            "187/188 [============================>.] - ETA: 0s - loss: 0.0293 - accuracy: 0.9911\n",
            "Epoch 3: val_loss improved from 0.04960 to 0.04894, saving model to models/best-mnist-v2.h5\n",
            "188/188 [==============================] - 3s 16ms/step - loss: 0.0292 - accuracy: 0.9911 - val_loss: 0.0489 - val_accuracy: 0.9858\n",
            "Epoch 4/100\n",
            "185/188 [============================>.] - ETA: 0s - loss: 0.0192 - accuracy: 0.9940\n",
            "Epoch 4: val_loss did not improve from 0.04894\n",
            "188/188 [==============================] - 3s 14ms/step - loss: 0.0193 - accuracy: 0.9939 - val_loss: 0.0497 - val_accuracy: 0.9858\n",
            "Epoch 5/100\n",
            "185/188 [============================>.] - ETA: 0s - loss: 0.0117 - accuracy: 0.9962\n",
            "Epoch 5: val_loss improved from 0.04894 to 0.04531, saving model to models/best-mnist-v2.h5\n",
            "188/188 [==============================] - 3s 15ms/step - loss: 0.0116 - accuracy: 0.9962 - val_loss: 0.0453 - val_accuracy: 0.9877\n",
            "Epoch 6/100\n",
            "185/188 [============================>.] - ETA: 0s - loss: 0.0080 - accuracy: 0.9973\n",
            "Epoch 6: val_loss did not improve from 0.04531\n",
            "188/188 [==============================] - 3s 15ms/step - loss: 0.0080 - accuracy: 0.9973 - val_loss: 0.0489 - val_accuracy: 0.9875\n",
            "Epoch 7/100\n",
            "185/188 [============================>.] - ETA: 0s - loss: 0.0060 - accuracy: 0.9981\n",
            "Epoch 7: val_loss did not improve from 0.04531\n",
            "188/188 [==============================] - 3s 16ms/step - loss: 0.0060 - accuracy: 0.9981 - val_loss: 0.0508 - val_accuracy: 0.9885\n",
            "Epoch 8/100\n",
            "184/188 [============================>.] - ETA: 0s - loss: 0.0054 - accuracy: 0.9980\n",
            "Epoch 8: val_loss did not improve from 0.04531\n",
            "188/188 [==============================] - 3s 16ms/step - loss: 0.0054 - accuracy: 0.9980 - val_loss: 0.0526 - val_accuracy: 0.9883\n",
            "Epoch 9/100\n",
            "185/188 [============================>.] - ETA: 0s - loss: 0.0050 - accuracy: 0.9982\n",
            "Epoch 9: val_loss did not improve from 0.04531\n",
            "188/188 [==============================] - 3s 15ms/step - loss: 0.0050 - accuracy: 0.9982 - val_loss: 0.0496 - val_accuracy: 0.9901\n",
            "Epoch 10/100\n",
            "185/188 [============================>.] - ETA: 0s - loss: 0.0040 - accuracy: 0.9986\n",
            "Epoch 10: val_loss did not improve from 0.04531\n",
            "188/188 [==============================] - 3s 15ms/step - loss: 0.0043 - accuracy: 0.9986 - val_loss: 0.0542 - val_accuracy: 0.9887\n"
          ]
        }
      ],
      "source": [
        "hist = model.fit(\n",
        "    X_train, Y_train, validation_split=0.2, epochs=100, batch_size=256,\n",
        "    callbacks=[mc, es]\n",
        ")"
      ]
    },
    {
      "cell_type": "code",
      "source": [
        "best_model = load_model(model_path)\n",
        "best_model.evaluate(X_test, Y_test)"
      ],
      "metadata": {
        "colab": {
          "base_uri": "https://localhost:8080/"
        },
        "id": "6V65HAEWrzdI",
        "outputId": "8c898d06-5279-4110-a46e-95a7cf3d85cc"
      },
      "execution_count": 12,
      "outputs": [
        {
          "output_type": "stream",
          "name": "stdout",
          "text": [
            "313/313 [==============================] - 1s 3ms/step - loss: 0.0369 - accuracy: 0.9894\n"
          ]
        },
        {
          "output_type": "execute_result",
          "data": {
            "text/plain": [
              "[0.036908604204654694, 0.9894000291824341]"
            ]
          },
          "metadata": {},
          "execution_count": 12
        }
      ]
    },
    {
      "cell_type": "code",
      "source": [
        "y_acc = hist.history['accuracy']\n",
        "y_vloss = hist.history['val_loss']\n",
        "xs = np.arange(1, len(y_acc) + 1)"
      ],
      "metadata": {
        "id": "mowUnP29r0iV"
      },
      "execution_count": 13,
      "outputs": []
    },
    {
      "cell_type": "code",
      "source": [
        "plt.figure(figsize=(12, 8))\n",
        "plt.plot(xs, y_acc, label='Train Accuracy')\n",
        "plt.plot(xs, y_vloss, label='Validation Loss')\n",
        "plt.legend(), plt.grid(), plt.xlabel('epochs')\n",
        "plt.show()"
      ],
      "metadata": {
        "colab": {
          "base_uri": "https://localhost:8080/",
          "height": 696
        },
        "id": "kj9YUFGfr3Rm",
        "outputId": "7c0b9c15-a9ad-41db-e920-87127c1a40fa"
      },
      "execution_count": 14,
      "outputs": [
        {
          "output_type": "display_data",
          "data": {
            "text/plain": [
              "<Figure size 1200x800 with 1 Axes>"
            ],
            "image/png": "[encoded data removed]"
          },
          "metadata": {}
        }
      ]
    },
    {
      "cell_type": "code",
      "source": [],
      "metadata": {
        "id": "ObQIKoTpr4rK"
      },
      "execution_count": null,
      "outputs": []
    }
  ],
  "metadata": {
    "colab": {
      "provenance": [],
      "gpuType": "T4"
    },
    "kernelspec": {
      "display_name": "Python 3",
      "name": "python3"
    },
    "language_info": {
      "name": "python"
    },
    "accelerator": "GPU"
  },
  "nbformat": 4,
  "nbformat_minor": 0
}