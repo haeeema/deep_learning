{
  "cells": [
    {
      "cell_type": "markdown",
      "metadata": {
        "id": "o-Chx6Yle_hG"
      },
      "source": [
        "### MNIST 손글씨 - CNN v1\n",
        "- 2 x Conv2D layers\n",
        "- 1 FCN layer\n",
        "- 1 Output layer"
      ]
    },
    {
      "cell_type": "code",
      "execution_count": 1,
      "metadata": {
        "id": "4_WSJF41eyA-"
      },
      "outputs": [],
      "source": [
        "import numpy as np\n",
        "import matplotlib.pyplot as plt\n",
        "import tensorflow as tf\n",
        "seed = 2023\n",
        "np.random.seed(seed)\n",
        "tf.random.set_seed(seed)"
      ]
    },
    {
      "cell_type": "code",
      "execution_count": 2,
      "metadata": {
        "colab": {
          "base_uri": "https://localhost:8080/",
          "height": 35
        },
        "id": "45j8oEYGfjYe",
        "outputId": "647a85f0-b4ee-43ad-ca69-c19213b26642"
      },
      "outputs": [
        {
          "data": {
            "application/vnd.google.colaboratory.intrinsic+json": {
              "type": "string"
            },
            "text/plain": [
              "'2.14.0'"
            ]
          },
          "execution_count": 2,
          "metadata": {},
          "output_type": "execute_result"
        }
      ],
      "source": [
        "tf.__version__"
      ]
    },
    {
      "cell_type": "markdown",
      "metadata": {
        "id": "HlHpqEI6feR9"
      },
      "source": [
        "- Data preprocessing"
      ]
    },
    {
      "cell_type": "code",
      "execution_count": 3,
      "metadata": {
        "colab": {
          "base_uri": "https://localhost:8080/"
        },
        "id": "AhUjBA1EfZ08",
        "outputId": "ddd0c520-924d-4295-87e7-8e61933835a6"
      },
      "outputs": [
        {
          "name": "stdout",
          "output_type": "stream",
          "text": [
            "Downloading data from https://storage.googleapis.com/tensorflow/tf-keras-datasets/mnist.npz\n",
            "11490434/11490434 [==============================] - 0s 0us/step\n"
          ]
        },
        {
          "data": {
            "text/plain": [
              "((60000, 28, 28), (60000,), (10000, 28, 28), (10000,))"
            ]
          },
          "execution_count": 3,
          "metadata": {},
          "output_type": "execute_result"
        }
      ],
      "source": [
        "from tensorflow.keras.datasets import mnist\n",
        "(X_train, y_train), (X_test, y_test) = mnist.load_data()\n",
        "X_train.shape, y_train.shape, X_test.shape, y_test.shape"
      ]
    },
    {
      "cell_type": "code",
      "execution_count": 4,
      "metadata": {
        "id": "oeLat_JUftGX"
      },
      "outputs": [],
      "source": [
        "# X_data의 차원 병경 및 정규화(0 ~ 1)\n",
        "X_train = X_train.reshape(-1, 28, 28, 1) / 255.\n",
        "X_test = X_test.reshape(-1, 28, 28, 1) / 255."
      ]
    },
    {
      "cell_type": "code",
      "execution_count": 5,
      "metadata": {
        "colab": {
          "base_uri": "https://localhost:8080/"
        },
        "id": "9gDqzgtzgZ_M",
        "outputId": "405449a4-c03d-4f22-fc3b-cc3ea423e11c"
      },
      "outputs": [
        {
          "data": {
            "text/plain": [
              "((60000, 10), (10000, 10))"
            ]
          },
          "execution_count": 5,
          "metadata": {},
          "output_type": "execute_result"
        }
      ],
      "source": [
        "# y_data의 one-hot-encoding\n",
        "from tensorflow.keras.utils import to_categorical\n",
        "Y_train = to_categorical(y_train)\n",
        "Y_test = to_categorical(y_test)\n",
        "Y_train.shape, Y_test.shape"
      ]
    },
    {
      "cell_type": "markdown",
      "metadata": {
        "id": "1_VA8IX7g8H9"
      },
      "source": [
        "- 모델 정의/설정/학습/평가"
      ]
    },
    {
      "cell_type": "code",
      "execution_count": 6,
      "metadata": {
        "id": "4Wc3Or_jg1AV"
      },
      "outputs": [],
      "source": [
        "from tensorflow.keras.models import Sequential, load_model\n",
        "from tensorflow.keras.layers import Conv2D, Dense, Flatten\n",
        "from tensorflow.keras.callbacks import ModelCheckpoint, EarlyStopping"
      ]
    },
    {
      "cell_type": "code",
      "execution_count": 7,
      "metadata": {
        "colab": {
          "base_uri": "https://localhost:8080/"
        },
        "id": "OEYtCFfGhZFc",
        "outputId": "915c59fa-37ac-4216-b4a8-4eac1c9046e8"
      },
      "outputs": [
        {
          "name": "stdout",
          "output_type": "stream",
          "text": [
            "Model: \"sequential\"\n",
            "_________________________________________________________________\n",
            " Layer (type)                Output Shape              Param #   \n",
            "=================================================================\n",
            " conv2d (Conv2D)             (None, 26, 26, 32)        320       \n",
            "                                                                 \n",
            " conv2d_1 (Conv2D)           (None, 24, 24, 64)        18496     \n",
            "                                                                 \n",
            " flatten (Flatten)           (None, 36864)             0         \n",
            "                                                                 \n",
            " dense (Dense)               (None, 512)               18874880  \n",
            "                                                                 \n",
            " dense_1 (Dense)             (None, 10)                5130      \n",
            "                                                                 \n",
            "=================================================================\n",
            "Total params: 18898826 (72.09 MB)\n",
            "Trainable params: 18898826 (72.09 MB)\n",
            "Non-trainable params: 0 (0.00 Byte)\n",
            "_________________________________________________________________\n"
          ]
        }
      ],
      "source": [
        "from keras.api._v2.keras import activations\n",
        "model = Sequential([\n",
        "    Conv2D(32, kernel_size=(3, 3), input_shape=(28, 28, 1), activation='relu'),\n",
        "    Conv2D(64, (3, 3), activation='relu'),\n",
        "    Flatten(),\n",
        "    Dense(512, activation='relu'),\n",
        "    Dense(10, activation='softmax')\n",
        "])\n",
        "model.summary()"
      ]
    },
    {
      "cell_type": "code",
      "execution_count": 8,
      "metadata": {
        "id": "dU-6kjJsiUez"
      },
      "outputs": [],
      "source": [
        "model.compile('adam', 'categorical_crossentropy', metrics=['accuracy'])"
      ]
    },
    {
      "cell_type": "code",
      "execution_count": 9,
      "metadata": {
        "colab": {
          "base_uri": "https://localhost:8080/"
        },
        "id": "SPlz7vGgkQ3m",
        "outputId": "decaa8e4-a6ed-4e77-c0c1-ee545c2abb48"
      },
      "outputs": [
        {
          "name": "stdout",
          "output_type": "stream",
          "text": [
            "total 8\n",
            "drwxr-xr-x 2 root root 4096 Nov  8 01:41 models\n",
            "drwxr-xr-x 1 root root 4096 Nov  6 14:20 sample_data\n"
          ]
        }
      ],
      "source": [
        "!mkdir models\n",
        "!ls -l"
      ]
    },
    {
      "cell_type": "code",
      "execution_count": 10,
      "metadata": {
        "id": "Ts3s1lO7j-zf"
      },
      "outputs": [],
      "source": [
        "model_path = 'models/best-mnist-v1.h5'\n",
        "mc = ModelCheckpoint(model_path, save_best_only=True, verbose=1)\n",
        "es = EarlyStopping(patience=10)"
      ]
    },
    {
      "cell_type": "code",
      "execution_count": 11,
      "metadata": {
        "colab": {
          "base_uri": "https://localhost:8080/"
        },
        "id": "Fb9BIOSKk-1N",
        "outputId": "c34d2fc1-079e-4465-d507-fb5ba7fcd8f6"
      },
      "outputs": [
        {
          "name": "stdout",
          "output_type": "stream",
          "text": [
            "Epoch 1/100\n",
            "188/188 [==============================] - ETA: 0s - loss: 0.1674 - accuracy: 0.9469\n",
            "Epoch 1: val_loss improved from inf to 0.05929, saving model to models/best-mnist-v1.h5\n"
          ]
        },
        {
          "name": "stderr",
          "output_type": "stream",
          "text": [
            "/usr/local/lib/python3.10/dist-packages/keras/src/engine/training.py:3079: UserWarning: You are saving your model as an HDF5 file via `model.save()`. This file format is considered legacy. We recommend using instead the native Keras format, e.g. `model.save('my_model.keras')`.\n",
            "  saving_api.save_model(\n"
          ]
        },
        {
          "name": "stdout",
          "output_type": "stream",
          "text": [
            "\b\b\b\b\b\b\b\b\b\b\b\b\b\b\b\b\b\b\b\b\b\b\b\b\b\b\b\b\b\b\b\b\b\b\b\b\b\b\b\b\b\b\b\b\b\b\b\b\b\b\b\b\b\b\b\b\b\b\b\b\b\b\b\b\b\b\b\b\b\b\b\b\b\b\b\b\b\b\b\b\b\b\b\b\r188/188 [==============================] - 16s 31ms/step - loss: 0.1674 - accuracy: 0.9469 - val_loss: 0.0593 - val_accuracy: 0.9828\n",
            "Epoch 2/100\n",
            "186/188 [============================>.] - ETA: 0s - loss: 0.0398 - accuracy: 0.9876\n",
            "Epoch 2: val_loss improved from 0.05929 to 0.05161, saving model to models/best-mnist-v1.h5\n",
            "188/188 [==============================] - 5s 25ms/step - loss: 0.0398 - accuracy: 0.9876 - val_loss: 0.0516 - val_accuracy: 0.9852\n",
            "Epoch 3/100\n",
            "187/188 [============================>.] - ETA: 0s - loss: 0.0192 - accuracy: 0.9936\n",
            "Epoch 3: val_loss did not improve from 0.05161\n",
            "188/188 [==============================] - 4s 22ms/step - loss: 0.0192 - accuracy: 0.9936 - val_loss: 0.0575 - val_accuracy: 0.9849\n",
            "Epoch 4/100\n",
            "188/188 [==============================] - ETA: 0s - loss: 0.0102 - accuracy: 0.9963\n",
            "Epoch 4: val_loss did not improve from 0.05161\n",
            "188/188 [==============================] - 4s 23ms/step - loss: 0.0102 - accuracy: 0.9963 - val_loss: 0.0549 - val_accuracy: 0.9843\n",
            "Epoch 5/100\n",
            "187/188 [============================>.] - ETA: 0s - loss: 0.0069 - accuracy: 0.9976\n",
            "Epoch 5: val_loss did not improve from 0.05161\n",
            "188/188 [==============================] - 4s 22ms/step - loss: 0.0069 - accuracy: 0.9976 - val_loss: 0.0644 - val_accuracy: 0.9838\n",
            "Epoch 6/100\n",
            "187/188 [============================>.] - ETA: 0s - loss: 0.0055 - accuracy: 0.9981\n",
            "Epoch 6: val_loss did not improve from 0.05161\n",
            "188/188 [==============================] - 4s 22ms/step - loss: 0.0055 - accuracy: 0.9981 - val_loss: 0.0554 - val_accuracy: 0.9866\n",
            "Epoch 7/100\n",
            "188/188 [==============================] - ETA: 0s - loss: 0.0025 - accuracy: 0.9993\n",
            "Epoch 7: val_loss did not improve from 0.05161\n",
            "188/188 [==============================] - 4s 23ms/step - loss: 0.0025 - accuracy: 0.9993 - val_loss: 0.0679 - val_accuracy: 0.9865\n",
            "Epoch 8/100\n",
            "187/188 [============================>.] - ETA: 0s - loss: 0.0051 - accuracy: 0.9983\n",
            "Epoch 8: val_loss did not improve from 0.05161\n",
            "188/188 [==============================] - 4s 22ms/step - loss: 0.0051 - accuracy: 0.9983 - val_loss: 0.0705 - val_accuracy: 0.9845\n",
            "Epoch 9/100\n",
            "187/188 [============================>.] - ETA: 0s - loss: 0.0036 - accuracy: 0.9989\n",
            "Epoch 9: val_loss did not improve from 0.05161\n",
            "188/188 [==============================] - 4s 22ms/step - loss: 0.0036 - accuracy: 0.9989 - val_loss: 0.0689 - val_accuracy: 0.9869\n",
            "Epoch 10/100\n",
            "187/188 [============================>.] - ETA: 0s - loss: 0.0036 - accuracy: 0.9988\n",
            "Epoch 10: val_loss did not improve from 0.05161\n",
            "188/188 [==============================] - 4s 22ms/step - loss: 0.0036 - accuracy: 0.9988 - val_loss: 0.0660 - val_accuracy: 0.9863\n",
            "Epoch 11/100\n",
            "187/188 [============================>.] - ETA: 0s - loss: 0.0049 - accuracy: 0.9985\n",
            "Epoch 11: val_loss did not improve from 0.05161\n",
            "188/188 [==============================] - 4s 22ms/step - loss: 0.0049 - accuracy: 0.9985 - val_loss: 0.0584 - val_accuracy: 0.9864\n",
            "Epoch 12/100\n",
            "187/188 [============================>.] - ETA: 0s - loss: 0.0038 - accuracy: 0.9989\n",
            "Epoch 12: val_loss did not improve from 0.05161\n",
            "188/188 [==============================] - 4s 22ms/step - loss: 0.0038 - accuracy: 0.9989 - val_loss: 0.0658 - val_accuracy: 0.9860\n"
          ]
        }
      ],
      "source": [
        "hist = model.fit(\n",
        "    X_train, Y_train, validation_split=0.2, epochs=100, batch_size=256,\n",
        "    callbacks=[mc, es]\n",
        ")"
      ]
    },
    {
      "cell_type": "code",
      "execution_count": 12,
      "metadata": {
        "colab": {
          "base_uri": "https://localhost:8080/"
        },
        "id": "_aJWhwkqlaLF",
        "outputId": "0071fd62-ef17-4a52-f34b-4572788e17fe"
      },
      "outputs": [
        {
          "name": "stdout",
          "output_type": "stream",
          "text": [
            "313/313 [==============================] - 1s 4ms/step - loss: 0.0444 - accuracy: 0.9861\n"
          ]
        },
        {
          "data": {
            "text/plain": [
              "[0.04437236487865448, 0.9861000180244446]"
            ]
          },
          "execution_count": 12,
          "metadata": {},
          "output_type": "execute_result"
        }
      ],
      "source": [
        "best_model = load_model(model_path)\n",
        "best_model.evaluate(X_test, Y_test)"
      ]
    },
    {
      "cell_type": "markdown",
      "metadata": {
        "id": "Pl6onTMWmnOu"
      },
      "source": [
        "- 학습과정 시각화"
      ]
    },
    {
      "cell_type": "code",
      "execution_count": 13,
      "metadata": {
        "id": "2M7naVjYmeAx"
      },
      "outputs": [],
      "source": [
        "y_acc = hist.history['accuracy']\n",
        "y_vloss = hist.history['val_loss']\n",
        "xs = np.arange(1, len(y_acc) + 1)"
      ]
    },
    {
      "cell_type": "code",
      "execution_count": 14,
      "metadata": {
        "colab": {
          "base_uri": "https://localhost:8080/",
          "height": 696
        },
        "id": "LJdDNcqemyNF",
        "outputId": "8851ebf6-6a3c-47cc-a86a-de319575202b"
      },
      "outputs": [
        {
          "data": {
            "image/png": "[encoded data removed]",
            "text/plain": [
              "<Figure size 1200x800 with 1 Axes>"
            ]
          },
          "metadata": {},
          "output_type": "display_data"
        }
      ],
      "source": [
        "plt.figure(figsize=(12, 8))\n",
        "plt.plot(xs, y_acc, label='Train Accuracy')\n",
        "plt.plot(xs, y_vloss, label='Validation Loss')\n",
        "plt.legend(), plt.grid(), plt.xlabel('epochs')\n",
        "plt.show()"
      ]
    },
    {
      "cell_type": "code",
      "execution_count": null,
      "metadata": {
        "id": "5spk-h2hm_yJ"
      },
      "outputs": [],
      "source": []
    }
  ],
  "metadata": {
    "accelerator": "GPU",
    "colab": {
      "gpuType": "T4",
      "provenance": []
    },
    "kernelspec": {
      "display_name": "Python 3",
      "name": "python3"
    },
    "language_info": {
      "name": "python"
    }
  },
  "nbformat": 4,
  "nbformat_minor": 0
}
