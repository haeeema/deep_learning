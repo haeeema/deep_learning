{
  "cells": [
    {
      "cell_type": "markdown",
      "metadata": {
        "id": "o-Chx6Yle_hG"
      },
      "source": [
        "### MNIST 손글씨 - CNN v2\n",
        "- 2 x Conv2D layers\n",
        "- \"1 MaxPooling2D layer\"\n",
        "- \"1 Dropout(0.25) layer\"\n",
        "- 1 FCN layer\n",
        "- \"1 Dropout(0.5) layer\"\n",
        "- 1 Output layer"
      ]
    },
    {
      "cell_type": "code",
      "execution_count": 2,
      "metadata": {
        "id": "4_WSJF41eyA-"
      },
      "outputs": [],
      "source": [
        "import numpy as np\n",
        "import matplotlib.pyplot as plt\n",
        "import tensorflow as tf\n",
        "seed = 2023\n",
        "np.random.seed(seed)\n",
        "tf.random.set_seed(seed)"
      ]
    },
    {
      "cell_type": "code",
      "execution_count": 3,
      "metadata": {
        "colab": {
          "base_uri": "https://localhost:8080/",
          "height": 35
        },
        "id": "45j8oEYGfjYe",
        "outputId": "c2123a32-3af7-48c4-dea2-f328bdb1ba81"
      },
      "outputs": [
        {
          "output_type": "execute_result",
          "data": {
            "text/plain": [
              "'2.14.0'"
            ],
            "application/vnd.google.colaboratory.intrinsic+json": {
              "type": "string"
            }
          },
          "metadata": {},
          "execution_count": 3
        }
      ],
      "source": [
        "tf.__version__"
      ]
    },
    {
      "cell_type": "markdown",
      "metadata": {
        "id": "HlHpqEI6feR9"
      },
      "source": [
        "- Data preprocessing"
      ]
    },
    {
      "cell_type": "code",
      "execution_count": 4,
      "metadata": {
        "colab": {
          "base_uri": "https://localhost:8080/"
        },
        "id": "AhUjBA1EfZ08",
        "outputId": "76fdab3d-f8dc-436b-ea4b-d97ae887836f"
      },
      "outputs": [
        {
          "output_type": "stream",
          "name": "stdout",
          "text": [
            "Downloading data from https://storage.googleapis.com/tensorflow/tf-keras-datasets/mnist.npz\n",
            "11490434/11490434 [==============================] - 2s 0us/step\n"
          ]
        },
        {
          "output_type": "execute_result",
          "data": {
            "text/plain": [
              "((60000, 28, 28), (60000,), (10000, 28, 28), (10000,))"
            ]
          },
          "metadata": {},
          "execution_count": 4
        }
      ],
      "source": [
        "from tensorflow.keras.datasets import mnist\n",
        "(X_train, y_train), (X_test, y_test) = mnist.load_data()\n",
        "X_train.shape, y_train.shape, X_test.shape, y_test.shape"
      ]
    },
    {
      "cell_type": "code",
      "execution_count": 5,
      "metadata": {
        "id": "oeLat_JUftGX"
      },
      "outputs": [],
      "source": [
        "# X_data의 차원 병경 및 정규화(0 ~ 1)\n",
        "X_train = X_train.reshape(-1, 28, 28, 1) / 255.\n",
        "X_test = X_test.reshape(-1, 28, 28, 1) / 255."
      ]
    },
    {
      "cell_type": "code",
      "execution_count": 6,
      "metadata": {
        "colab": {
          "base_uri": "https://localhost:8080/"
        },
        "id": "9gDqzgtzgZ_M",
        "outputId": "381824d2-f57c-4b48-fc05-38909d9270fa"
      },
      "outputs": [
        {
          "output_type": "execute_result",
          "data": {
            "text/plain": [
              "((60000, 10), (10000, 10))"
            ]
          },
          "metadata": {},
          "execution_count": 6
        }
      ],
      "source": [
        "# y_data의 one-hot-encoding\n",
        "from tensorflow.keras.utils import to_categorical\n",
        "Y_train = to_categorical(y_train)\n",
        "Y_test = to_categorical(y_test)\n",
        "Y_train.shape, Y_test.shape"
      ]
    },
    {
      "cell_type": "markdown",
      "metadata": {
        "id": "1_VA8IX7g8H9"
      },
      "source": [
        "- 모델 정의/설정/학습/평가"
      ]
    },
    {
      "cell_type": "code",
      "execution_count": 7,
      "metadata": {
        "id": "4Wc3Or_jg1AV"
      },
      "outputs": [],
      "source": [
        "from tensorflow.keras.models import Sequential, load_model\n",
        "from tensorflow.keras.layers import Conv2D, Dense, Flatten, MaxPooling2D, Dropout\n",
        "from tensorflow.keras.callbacks import ModelCheckpoint, EarlyStopping"
      ]
    },
    {
      "cell_type": "code",
      "execution_count": 8,
      "metadata": {
        "colab": {
          "base_uri": "https://localhost:8080/"
        },
        "id": "OEYtCFfGhZFc",
        "outputId": "e6985a67-fc5e-400e-fcd1-9b02d932937b"
      },
      "outputs": [
        {
          "output_type": "stream",
          "name": "stdout",
          "text": [
            "Model: \"sequential\"\n",
            "_________________________________________________________________\n",
            " Layer (type)                Output Shape              Param #   \n",
            "=================================================================\n",
            " conv2d (Conv2D)             (None, 26, 26, 32)        320       \n",
            "                                                                 \n",
            " conv2d_1 (Conv2D)           (None, 24, 24, 64)        18496     \n",
            "                                                                 \n",
            " max_pooling2d (MaxPooling2  (None, 12, 12, 64)        0         \n",
            " D)                                                              \n",
            "                                                                 \n",
            " dropout (Dropout)           (None, 12, 12, 64)        0         \n",
            "                                                                 \n",
            " flatten (Flatten)           (None, 9216)              0         \n",
            "                                                                 \n",
            " dense (Dense)               (None, 512)               4719104   \n",
            "                                                                 \n",
            " dropout_1 (Dropout)         (None, 512)               0         \n",
            "                                                                 \n",
            " dense_1 (Dense)             (None, 10)                5130      \n",
            "                                                                 \n",
            "=================================================================\n",
            "Total params: 4743050 (18.09 MB)\n",
            "Trainable params: 4743050 (18.09 MB)\n",
            "Non-trainable params: 0 (0.00 Byte)\n",
            "_________________________________________________________________\n"
          ]
        }
      ],
      "source": [
        "from keras.api._v2.keras import activations\n",
        "model = Sequential([\n",
        "    Conv2D(32, kernel_size=(3, 3), input_shape=(28, 28, 1), activation='relu'),\n",
        "    Conv2D(64, (3, 3), activation='relu'),\n",
        "    MaxPooling2D(),\n",
        "    Dropout(0.25),\n",
        "    Flatten(),\n",
        "    Dense(512, activation='relu'),\n",
        "    Dropout(0.5),\n",
        "    Dense(10, activation='softmax')\n",
        "])\n",
        "model.summary()"
      ]
    },
    {
      "cell_type": "code",
      "execution_count": 9,
      "metadata": {
        "id": "dU-6kjJsiUez"
      },
      "outputs": [],
      "source": [
        "model.compile('adam', 'categorical_crossentropy', metrics=['accuracy'])"
      ]
    },
    {
      "cell_type": "code",
      "execution_count": 10,
      "metadata": {
        "colab": {
          "base_uri": "https://localhost:8080/"
        },
        "id": "SPlz7vGgkQ3m",
        "outputId": "905c24a7-955e-4d63-dce1-5e38d6036b26"
      },
      "outputs": [
        {
          "output_type": "stream",
          "name": "stdout",
          "text": [
            "total 8\n",
            "drwxr-xr-x 2 root root 4096 Nov  8 02:13 models\n",
            "drwxr-xr-x 1 root root 4096 Nov  6 14:20 sample_data\n"
          ]
        }
      ],
      "source": [
        "!mkdir models\n",
        "!ls -l"
      ]
    },
    {
      "cell_type": "code",
      "execution_count": 11,
      "metadata": {
        "id": "Ts3s1lO7j-zf"
      },
      "outputs": [],
      "source": [
        "model_path = 'models/best-mnist-v3.h5'\n",
        "mc = ModelCheckpoint(model_path, save_best_only=True, verbose=1)\n",
        "es = EarlyStopping(patience=5)"
      ]
    },
    {
      "cell_type": "code",
      "execution_count": 12,
      "metadata": {
        "colab": {
          "base_uri": "https://localhost:8080/"
        },
        "id": "Fb9BIOSKk-1N",
        "outputId": "e0884bac-d6ea-4177-81ab-5634cecbc9b3"
      },
      "outputs": [
        {
          "output_type": "stream",
          "name": "stdout",
          "text": [
            "Epoch 1/100\n",
            "188/188 [==============================] - ETA: 0s - loss: 0.2490 - accuracy: 0.9244\n",
            "Epoch 1: val_loss improved from inf to 0.06145, saving model to models/best-mnist-v3.h5\n",
            "188/188 [==============================] - 17s 23ms/step - loss: 0.2490 - accuracy: 0.9244 - val_loss: 0.0614 - val_accuracy: 0.9819\n",
            "Epoch 2/100\n",
            "  1/188 [..............................] - ETA: 3s - loss: 0.0614 - accuracy: 0.9766"
          ]
        },
        {
          "output_type": "stream",
          "name": "stderr",
          "text": [
            "/usr/local/lib/python3.10/dist-packages/keras/src/engine/training.py:3079: UserWarning: You are saving your model as an HDF5 file via `model.save()`. This file format is considered legacy. We recommend using instead the native Keras format, e.g. `model.save('my_model.keras')`.\n",
            "  saving_api.save_model(\n"
          ]
        },
        {
          "output_type": "stream",
          "name": "stdout",
          "text": [
            "188/188 [==============================] - ETA: 0s - loss: 0.0669 - accuracy: 0.9801\n",
            "Epoch 2: val_loss improved from 0.06145 to 0.04534, saving model to models/best-mnist-v3.h5\n",
            "188/188 [==============================] - 3s 18ms/step - loss: 0.0669 - accuracy: 0.9801 - val_loss: 0.0453 - val_accuracy: 0.9864\n",
            "Epoch 3/100\n",
            "186/188 [============================>.] - ETA: 0s - loss: 0.0448 - accuracy: 0.9862\n",
            "Epoch 3: val_loss improved from 0.04534 to 0.03872, saving model to models/best-mnist-v3.h5\n",
            "188/188 [==============================] - 4s 19ms/step - loss: 0.0447 - accuracy: 0.9862 - val_loss: 0.0387 - val_accuracy: 0.9880\n",
            "Epoch 4/100\n",
            "186/188 [============================>.] - ETA: 0s - loss: 0.0340 - accuracy: 0.9891\n",
            "Epoch 4: val_loss did not improve from 0.03872\n",
            "188/188 [==============================] - 3s 17ms/step - loss: 0.0339 - accuracy: 0.9891 - val_loss: 0.0401 - val_accuracy: 0.9877\n",
            "Epoch 5/100\n",
            "187/188 [============================>.] - ETA: 0s - loss: 0.0276 - accuracy: 0.9911\n",
            "Epoch 5: val_loss improved from 0.03872 to 0.03587, saving model to models/best-mnist-v3.h5\n",
            "188/188 [==============================] - 3s 17ms/step - loss: 0.0276 - accuracy: 0.9911 - val_loss: 0.0359 - val_accuracy: 0.9892\n",
            "Epoch 6/100\n",
            "187/188 [============================>.] - ETA: 0s - loss: 0.0242 - accuracy: 0.9920\n",
            "Epoch 6: val_loss improved from 0.03587 to 0.03530, saving model to models/best-mnist-v3.h5\n",
            "188/188 [==============================] - 3s 18ms/step - loss: 0.0242 - accuracy: 0.9920 - val_loss: 0.0353 - val_accuracy: 0.9890\n",
            "Epoch 7/100\n",
            "186/188 [============================>.] - ETA: 0s - loss: 0.0196 - accuracy: 0.9934\n",
            "Epoch 7: val_loss did not improve from 0.03530\n",
            "188/188 [==============================] - 3s 18ms/step - loss: 0.0195 - accuracy: 0.9934 - val_loss: 0.0439 - val_accuracy: 0.9886\n",
            "Epoch 8/100\n",
            "186/188 [============================>.] - ETA: 0s - loss: 0.0181 - accuracy: 0.9941\n",
            "Epoch 8: val_loss did not improve from 0.03530\n",
            "188/188 [==============================] - 3s 17ms/step - loss: 0.0182 - accuracy: 0.9940 - val_loss: 0.0370 - val_accuracy: 0.9901\n",
            "Epoch 9/100\n",
            "186/188 [============================>.] - ETA: 0s - loss: 0.0158 - accuracy: 0.9945\n",
            "Epoch 9: val_loss improved from 0.03530 to 0.03463, saving model to models/best-mnist-v3.h5\n",
            "188/188 [==============================] - 3s 18ms/step - loss: 0.0159 - accuracy: 0.9945 - val_loss: 0.0346 - val_accuracy: 0.9906\n",
            "Epoch 10/100\n",
            "186/188 [============================>.] - ETA: 0s - loss: 0.0133 - accuracy: 0.9953\n",
            "Epoch 10: val_loss improved from 0.03463 to 0.03235, saving model to models/best-mnist-v3.h5\n",
            "188/188 [==============================] - 4s 19ms/step - loss: 0.0132 - accuracy: 0.9953 - val_loss: 0.0324 - val_accuracy: 0.9907\n",
            "Epoch 11/100\n",
            "188/188 [==============================] - ETA: 0s - loss: 0.0127 - accuracy: 0.9960\n",
            "Epoch 11: val_loss did not improve from 0.03235\n",
            "188/188 [==============================] - 3s 17ms/step - loss: 0.0127 - accuracy: 0.9960 - val_loss: 0.0356 - val_accuracy: 0.9898\n",
            "Epoch 12/100\n",
            "186/188 [============================>.] - ETA: 0s - loss: 0.0109 - accuracy: 0.9963\n",
            "Epoch 12: val_loss did not improve from 0.03235\n",
            "188/188 [==============================] - 3s 17ms/step - loss: 0.0108 - accuracy: 0.9963 - val_loss: 0.0364 - val_accuracy: 0.9904\n",
            "Epoch 13/100\n",
            "185/188 [============================>.] - ETA: 0s - loss: 0.0101 - accuracy: 0.9966\n",
            "Epoch 13: val_loss did not improve from 0.03235\n",
            "188/188 [==============================] - 3s 18ms/step - loss: 0.0101 - accuracy: 0.9966 - val_loss: 0.0375 - val_accuracy: 0.9903\n",
            "Epoch 14/100\n",
            "185/188 [============================>.] - ETA: 0s - loss: 0.0090 - accuracy: 0.9968\n",
            "Epoch 14: val_loss did not improve from 0.03235\n",
            "188/188 [==============================] - 4s 19ms/step - loss: 0.0089 - accuracy: 0.9968 - val_loss: 0.0352 - val_accuracy: 0.9912\n",
            "Epoch 15/100\n",
            "185/188 [============================>.] - ETA: 0s - loss: 0.0094 - accuracy: 0.9970\n",
            "Epoch 15: val_loss did not improve from 0.03235\n",
            "188/188 [==============================] - 3s 18ms/step - loss: 0.0093 - accuracy: 0.9971 - val_loss: 0.0384 - val_accuracy: 0.9905\n"
          ]
        }
      ],
      "source": [
        "hist = model.fit(\n",
        "    X_train, Y_train, validation_split=0.2, epochs=100, batch_size=256,\n",
        "    callbacks=[mc, es]\n",
        ")"
      ]
    },
    {
      "cell_type": "code",
      "source": [
        "best_model = load_model(model_path)\n",
        "best_model.evaluate(X_test, Y_test)"
      ],
      "metadata": {
        "colab": {
          "base_uri": "https://localhost:8080/"
        },
        "id": "6V65HAEWrzdI",
        "outputId": "4f5c4d45-ddb6-4908-de0f-f25fc7402c76"
      },
      "execution_count": 13,
      "outputs": [
        {
          "output_type": "stream",
          "name": "stdout",
          "text": [
            "313/313 [==============================] - 2s 4ms/step - loss: 0.0253 - accuracy: 0.9922\n"
          ]
        },
        {
          "output_type": "execute_result",
          "data": {
            "text/plain": [
              "[0.025347836315631866, 0.9922000169754028]"
            ]
          },
          "metadata": {},
          "execution_count": 13
        }
      ]
    },
    {
      "cell_type": "code",
      "source": [
        "y_acc = hist.history['accuracy']\n",
        "y_vloss = hist.history['val_loss']\n",
        "xs = np.arange(1, len(y_acc) + 1)"
      ],
      "metadata": {
        "id": "mowUnP29r0iV"
      },
      "execution_count": 14,
      "outputs": []
    },
    {
      "cell_type": "code",
      "source": [
        "plt.figure(figsize=(12, 6))\n",
        "plt.plot(xs, y_acc, label='Train Accuracy')\n",
        "plt.plot(xs, y_vloss, label='Validation Loss')\n",
        "plt.legend(), plt.grid(), plt.xlabel('epoch')\n",
        "plt.show()"
      ],
      "metadata": {
        "colab": {
          "base_uri": "https://localhost:8080/",
          "height": 542
        },
        "id": "kj9YUFGfr3Rm",
        "outputId": "0d1d82cf-fba1-475c-d863-912cd96c7e55"
      },
      "execution_count": 16,
      "outputs": [
        {
          "output_type": "display_data",
          "data": {
            "text/plain": [
              "<Figure size 1200x600 with 1 Axes>"
            ],
            "image/png": "[encoded data removed]"
          },
          "metadata": {}
        }
      ]
    }
  ],
  "metadata": {
    "colab": {
      "provenance": [],
      "gpuType": "T4"
    },
    "kernelspec": {
      "display_name": "Python 3",
      "name": "python3"
    },
    "language_info": {
      "name": "python"
    },
    "accelerator": "GPU"
  },
  "nbformat": 4,
  "nbformat_minor": 0
}