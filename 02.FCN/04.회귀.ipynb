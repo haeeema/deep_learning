{
 "cells": [
  {
   "cell_type": "markdown",
   "metadata": {},
   "source": [
    "### 회귀 - 당뇨병"
   ]
  },
  {
   "cell_type": "code",
   "execution_count": 35,
   "metadata": {},
   "outputs": [],
   "source": [
    "import numpy as np\n",
    "import matplotlib.pyplot as plt\n",
    "import tensorflow as tf\n",
    "\n",
    "seed = 2023\n",
    "\n",
    "np.random.seed(seed)\n",
    "tf.random.set_seed(seed)"
   ]
  },
  {
   "cell_type": "markdown",
   "metadata": {},
   "source": [
    "- 데이터 전처리"
   ]
  },
  {
   "cell_type": "code",
   "execution_count": 36,
   "metadata": {},
   "outputs": [
    {
     "data": {
      "text/plain": [
       "(442, 10)"
      ]
     },
     "execution_count": 36,
     "metadata": {},
     "output_type": "execute_result"
    }
   ],
   "source": [
    "from sklearn.datasets import load_diabetes\n",
    "diabetes = load_diabetes()\n",
    "diabetes.data.shape"
   ]
  },
  {
   "cell_type": "code",
   "execution_count": 37,
   "metadata": {},
   "outputs": [
    {
     "data": {
      "text/plain": [
       "((353, 10), (89, 10), (353,), (89,))"
      ]
     },
     "execution_count": 37,
     "metadata": {},
     "output_type": "execute_result"
    }
   ],
   "source": [
    "from sklearn.model_selection import train_test_split\n",
    "x_train, x_test, y_train, y_test = train_test_split(\n",
    "    diabetes.data, diabetes.target, test_size=0.2, random_state=seed\n",
    ")\n",
    "x_train.shape, x_test.shape, y_train.shape, y_test.shape"
   ]
  },
  {
   "cell_type": "markdown",
   "metadata": {},
   "source": [
    "- 모델 정의/설정/학습/평가"
   ]
  },
  {
   "cell_type": "code",
   "execution_count": 38,
   "metadata": {},
   "outputs": [],
   "source": [
    "from tensorflow.keras.models import Sequential\n",
    "from tensorflow.keras.layers import Dense"
   ]
  },
  {
   "cell_type": "code",
   "execution_count": 39,
   "metadata": {},
   "outputs": [
    {
     "name": "stdout",
     "output_type": "stream",
     "text": [
      "Model: \"sequential_3\"\n",
      "_________________________________________________________________\n",
      " Layer (type)                Output Shape              Param #   \n",
      "=================================================================\n",
      " dense_9 (Dense)             (None, 24)                264       \n",
      "                                                                 \n",
      " dense_10 (Dense)            (None, 10)                250       \n",
      "                                                                 \n",
      " dense_11 (Dense)            (None, 1)                 11        \n",
      "                                                                 \n",
      "=================================================================\n",
      "Total params: 525 (2.05 KB)\n",
      "Trainable params: 525 (2.05 KB)\n",
      "Non-trainable params: 0 (0.00 Byte)\n",
      "_________________________________________________________________\n"
     ]
    }
   ],
   "source": [
    "model = Sequential([\n",
    "    Dense(24, input_dim=10, activation='relu'),\n",
    "    Dense(10, activation='relu'),\n",
    "    Dense(1)                            # 회귀모델이므로 activation='linear' 생략 \n",
    "])\n",
    "model.summary()"
   ]
  },
  {
   "cell_type": "code",
   "execution_count": 40,
   "metadata": {},
   "outputs": [],
   "source": [
    "# 회귀 실행시에는 metrics 사용하지 않음\n",
    "model.compile(loss='mean_squared_error', optimizer='rmsprop')"
   ]
  },
  {
   "cell_type": "code",
   "execution_count": 41,
   "metadata": {},
   "outputs": [
    {
     "name": "stdout",
     "output_type": "stream",
     "text": [
      "Epoch 1/100\n"
     ]
    },
    {
     "name": "stdout",
     "output_type": "stream",
     "text": [
      "3/3 - 1s - loss: 28741.4180 - val_loss: 30233.4297 - 650ms/epoch - 217ms/step\n",
      "Epoch 2/100\n",
      "3/3 - 0s - loss: 28729.6172 - val_loss: 30223.8555 - 31ms/epoch - 10ms/step\n",
      "Epoch 3/100\n",
      "3/3 - 0s - loss: 28720.5098 - val_loss: 30215.0352 - 33ms/epoch - 11ms/step\n",
      "Epoch 4/100\n",
      "3/3 - 0s - loss: 28712.2578 - val_loss: 30206.6406 - 32ms/epoch - 11ms/step\n",
      "Epoch 5/100\n",
      "3/3 - 0s - loss: 28704.2695 - val_loss: 30198.2891 - 32ms/epoch - 11ms/step\n",
      "Epoch 6/100\n",
      "3/3 - 0s - loss: 28696.3418 - val_loss: 30189.8848 - 31ms/epoch - 10ms/step\n",
      "Epoch 7/100\n",
      "3/3 - 0s - loss: 28688.3750 - val_loss: 30181.3594 - 34ms/epoch - 11ms/step\n",
      "Epoch 8/100\n",
      "3/3 - 0s - loss: 28680.2363 - val_loss: 30172.5605 - 34ms/epoch - 11ms/step\n",
      "Epoch 9/100\n",
      "3/3 - 0s - loss: 28671.8789 - val_loss: 30163.5254 - 32ms/epoch - 11ms/step\n",
      "Epoch 10/100\n",
      "3/3 - 0s - loss: 28663.2793 - val_loss: 30154.1797 - 32ms/epoch - 11ms/step\n",
      "Epoch 11/100\n",
      "3/3 - 0s - loss: 28654.3730 - val_loss: 30144.5566 - 32ms/epoch - 11ms/step\n",
      "Epoch 12/100\n",
      "3/3 - 0s - loss: 28645.1914 - val_loss: 30134.5977 - 33ms/epoch - 11ms/step\n",
      "Epoch 13/100\n",
      "3/3 - 0s - loss: 28635.6738 - val_loss: 30124.2246 - 32ms/epoch - 11ms/step\n",
      "Epoch 14/100\n",
      "3/3 - 0s - loss: 28625.7383 - val_loss: 30113.4688 - 34ms/epoch - 11ms/step\n",
      "Epoch 15/100\n",
      "3/3 - 0s - loss: 28615.4648 - val_loss: 30102.3809 - 34ms/epoch - 11ms/step\n",
      "Epoch 16/100\n",
      "3/3 - 0s - loss: 28604.8164 - val_loss: 30090.8770 - 32ms/epoch - 11ms/step\n",
      "Epoch 17/100\n",
      "3/3 - 0s - loss: 28593.7520 - val_loss: 30078.7812 - 29ms/epoch - 10ms/step\n",
      "Epoch 18/100\n",
      "3/3 - 0s - loss: 28582.1816 - val_loss: 30066.3594 - 36ms/epoch - 12ms/step\n",
      "Epoch 19/100\n",
      "3/3 - 0s - loss: 28570.3750 - val_loss: 30053.6895 - 30ms/epoch - 10ms/step\n",
      "Epoch 20/100\n",
      "3/3 - 0s - loss: 28558.2168 - val_loss: 30040.5391 - 33ms/epoch - 11ms/step\n",
      "Epoch 21/100\n",
      "3/3 - 0s - loss: 28545.5098 - val_loss: 30026.8164 - 33ms/epoch - 11ms/step\n",
      "Epoch 22/100\n",
      "3/3 - 0s - loss: 28532.3594 - val_loss: 30012.6719 - 32ms/epoch - 11ms/step\n",
      "Epoch 23/100\n",
      "3/3 - 0s - loss: 28518.7812 - val_loss: 29997.9824 - 30ms/epoch - 10ms/step\n",
      "Epoch 24/100\n",
      "3/3 - 0s - loss: 28504.7793 - val_loss: 29982.9512 - 33ms/epoch - 11ms/step\n",
      "Epoch 25/100\n",
      "3/3 - 0s - loss: 28490.3223 - val_loss: 29967.1621 - 32ms/epoch - 11ms/step\n",
      "Epoch 26/100\n",
      "3/3 - 0s - loss: 28475.2871 - val_loss: 29951.0254 - 29ms/epoch - 10ms/step\n",
      "Epoch 27/100\n",
      "3/3 - 0s - loss: 28459.8594 - val_loss: 29934.4512 - 33ms/epoch - 11ms/step\n",
      "Epoch 28/100\n",
      "3/3 - 0s - loss: 28443.9863 - val_loss: 29917.2578 - 32ms/epoch - 11ms/step\n",
      "Epoch 29/100\n",
      "3/3 - 0s - loss: 28427.6113 - val_loss: 29899.6973 - 32ms/epoch - 11ms/step\n",
      "Epoch 30/100\n",
      "3/3 - 0s - loss: 28410.6992 - val_loss: 29881.1973 - 35ms/epoch - 12ms/step\n",
      "Epoch 31/100\n",
      "3/3 - 0s - loss: 28393.1055 - val_loss: 29862.4375 - 32ms/epoch - 11ms/step\n",
      "Epoch 32/100\n",
      "3/3 - 0s - loss: 28375.2051 - val_loss: 29843.1309 - 29ms/epoch - 10ms/step\n",
      "Epoch 33/100\n",
      "3/3 - 0s - loss: 28356.7734 - val_loss: 29823.2285 - 33ms/epoch - 11ms/step\n",
      "Epoch 34/100\n",
      "3/3 - 0s - loss: 28337.8574 - val_loss: 29802.8477 - 32ms/epoch - 11ms/step\n",
      "Epoch 35/100\n",
      "3/3 - 0s - loss: 28318.4453 - val_loss: 29781.8945 - 31ms/epoch - 10ms/step\n",
      "Epoch 36/100\n",
      "3/3 - 0s - loss: 28298.4395 - val_loss: 29760.4082 - 34ms/epoch - 11ms/step\n",
      "Epoch 37/100\n",
      "3/3 - 0s - loss: 28278.0410 - val_loss: 29738.4746 - 33ms/epoch - 11ms/step\n",
      "Epoch 38/100\n",
      "3/3 - 0s - loss: 28257.1035 - val_loss: 29715.8945 - 62ms/epoch - 21ms/step\n",
      "Epoch 39/100\n",
      "3/3 - 0s - loss: 28235.5645 - val_loss: 29692.6582 - 40ms/epoch - 13ms/step\n",
      "Epoch 40/100\n",
      "3/3 - 0s - loss: 28213.4355 - val_loss: 29668.6484 - 29ms/epoch - 10ms/step\n",
      "Epoch 41/100\n",
      "3/3 - 0s - loss: 28190.6250 - val_loss: 29644.2246 - 32ms/epoch - 11ms/step\n",
      "Epoch 42/100\n",
      "3/3 - 0s - loss: 28167.3438 - val_loss: 29619.1523 - 31ms/epoch - 10ms/step\n",
      "Epoch 43/100\n",
      "3/3 - 0s - loss: 28143.4863 - val_loss: 29593.4648 - 32ms/epoch - 11ms/step\n",
      "Epoch 44/100\n",
      "3/3 - 0s - loss: 28119.0039 - val_loss: 29567.1934 - 45ms/epoch - 15ms/step\n",
      "Epoch 45/100\n",
      "3/3 - 0s - loss: 28094.0312 - val_loss: 29540.3730 - 31ms/epoch - 10ms/step\n",
      "Epoch 46/100\n",
      "3/3 - 0s - loss: 28068.4746 - val_loss: 29512.8848 - 30ms/epoch - 10ms/step\n",
      "Epoch 47/100\n",
      "3/3 - 0s - loss: 28042.4512 - val_loss: 29485.1152 - 34ms/epoch - 11ms/step\n",
      "Epoch 48/100\n",
      "3/3 - 0s - loss: 28016.0547 - val_loss: 29456.7246 - 35ms/epoch - 12ms/step\n",
      "Epoch 49/100\n",
      "3/3 - 0s - loss: 27989.0098 - val_loss: 29427.5195 - 30ms/epoch - 10ms/step\n",
      "Epoch 50/100\n",
      "3/3 - 0s - loss: 27961.3008 - val_loss: 29397.7051 - 34ms/epoch - 11ms/step\n",
      "Epoch 51/100\n",
      "3/3 - 0s - loss: 27933.0977 - val_loss: 29367.3457 - 28ms/epoch - 9ms/step\n",
      "Epoch 52/100\n",
      "3/3 - 0s - loss: 27904.0527 - val_loss: 29335.6582 - 34ms/epoch - 11ms/step\n",
      "Epoch 53/100\n",
      "3/3 - 0s - loss: 27874.1387 - val_loss: 29303.7559 - 34ms/epoch - 11ms/step\n",
      "Epoch 54/100\n",
      "3/3 - 0s - loss: 27843.9297 - val_loss: 29271.3379 - 30ms/epoch - 10ms/step\n",
      "Epoch 55/100\n",
      "3/3 - 0s - loss: 27812.9570 - val_loss: 29237.7930 - 30ms/epoch - 10ms/step\n",
      "Epoch 56/100\n",
      "3/3 - 0s - loss: 27781.3906 - val_loss: 29204.1816 - 31ms/epoch - 10ms/step\n",
      "Epoch 57/100\n",
      "3/3 - 0s - loss: 27749.5059 - val_loss: 29169.8418 - 33ms/epoch - 11ms/step\n",
      "Epoch 58/100\n",
      "3/3 - 0s - loss: 27716.8262 - val_loss: 29134.6406 - 30ms/epoch - 10ms/step\n",
      "Epoch 59/100\n",
      "3/3 - 0s - loss: 27683.3906 - val_loss: 29098.5137 - 33ms/epoch - 11ms/step\n",
      "Epoch 60/100\n",
      "3/3 - 0s - loss: 27649.2383 - val_loss: 29062.0000 - 34ms/epoch - 11ms/step\n",
      "Epoch 61/100\n",
      "3/3 - 0s - loss: 27614.5605 - val_loss: 29024.8281 - 31ms/epoch - 10ms/step\n",
      "Epoch 62/100\n",
      "3/3 - 0s - loss: 27579.3125 - val_loss: 28986.9199 - 30ms/epoch - 10ms/step\n",
      "Epoch 63/100\n",
      "3/3 - 0s - loss: 27543.4961 - val_loss: 28948.2773 - 38ms/epoch - 13ms/step\n",
      "Epoch 64/100\n",
      "3/3 - 0s - loss: 27506.6016 - val_loss: 28908.7051 - 31ms/epoch - 10ms/step\n",
      "Epoch 65/100\n",
      "3/3 - 0s - loss: 27469.0020 - val_loss: 28868.0430 - 34ms/epoch - 11ms/step\n",
      "Epoch 66/100\n",
      "3/3 - 0s - loss: 27430.4473 - val_loss: 28826.9629 - 31ms/epoch - 10ms/step\n",
      "Epoch 67/100\n",
      "3/3 - 0s - loss: 27391.5215 - val_loss: 28785.4180 - 33ms/epoch - 11ms/step\n",
      "Epoch 68/100\n",
      "3/3 - 0s - loss: 27352.0391 - val_loss: 28742.8301 - 33ms/epoch - 11ms/step\n",
      "Epoch 69/100\n",
      "3/3 - 0s - loss: 27311.6953 - val_loss: 28699.6660 - 32ms/epoch - 11ms/step\n",
      "Epoch 70/100\n",
      "3/3 - 0s - loss: 27270.8223 - val_loss: 28655.7500 - 32ms/epoch - 11ms/step\n",
      "Epoch 71/100\n",
      "3/3 - 0s - loss: 27229.0977 - val_loss: 28610.7871 - 37ms/epoch - 12ms/step\n",
      "Epoch 72/100\n",
      "3/3 - 0s - loss: 27186.7070 - val_loss: 28565.4551 - 30ms/epoch - 10ms/step\n",
      "Epoch 73/100\n",
      "3/3 - 0s - loss: 27143.4648 - val_loss: 28518.7871 - 34ms/epoch - 11ms/step\n",
      "Epoch 74/100\n",
      "3/3 - 0s - loss: 27099.4004 - val_loss: 28471.8613 - 32ms/epoch - 11ms/step\n",
      "Epoch 75/100\n",
      "3/3 - 0s - loss: 27054.7988 - val_loss: 28423.8184 - 31ms/epoch - 10ms/step\n",
      "Epoch 76/100\n",
      "3/3 - 0s - loss: 27009.3223 - val_loss: 28375.4316 - 82ms/epoch - 27ms/step\n",
      "Epoch 77/100\n",
      "3/3 - 0s - loss: 26963.5156 - val_loss: 28326.2480 - 28ms/epoch - 9ms/step\n",
      "Epoch 78/100\n",
      "3/3 - 0s - loss: 26916.6836 - val_loss: 28275.7695 - 29ms/epoch - 10ms/step\n",
      "Epoch 79/100\n",
      "3/3 - 0s - loss: 26868.7598 - val_loss: 28224.2949 - 32ms/epoch - 11ms/step\n",
      "Epoch 80/100\n",
      "3/3 - 0s - loss: 26820.2383 - val_loss: 28172.4902 - 40ms/epoch - 13ms/step\n",
      "Epoch 81/100\n",
      "3/3 - 0s - loss: 26771.3594 - val_loss: 28120.4336 - 31ms/epoch - 10ms/step\n",
      "Epoch 82/100\n",
      "3/3 - 0s - loss: 26721.8008 - val_loss: 28066.8203 - 34ms/epoch - 11ms/step\n",
      "Epoch 83/100\n",
      "3/3 - 0s - loss: 26671.0391 - val_loss: 28012.1309 - 32ms/epoch - 11ms/step\n",
      "Epoch 84/100\n",
      "3/3 - 0s - loss: 26619.6211 - val_loss: 27957.4727 - 32ms/epoch - 11ms/step\n",
      "Epoch 85/100\n",
      "3/3 - 0s - loss: 26567.6172 - val_loss: 27901.4102 - 31ms/epoch - 10ms/step\n",
      "Epoch 86/100\n",
      "3/3 - 0s - loss: 26514.7539 - val_loss: 27844.9316 - 33ms/epoch - 11ms/step\n",
      "Epoch 87/100\n",
      "3/3 - 0s - loss: 26461.0176 - val_loss: 27786.7773 - 30ms/epoch - 10ms/step\n",
      "Epoch 88/100\n",
      "3/3 - 0s - loss: 26406.1133 - val_loss: 27727.9922 - 33ms/epoch - 11ms/step\n",
      "Epoch 89/100\n",
      "3/3 - 0s - loss: 26350.6602 - val_loss: 27668.9082 - 31ms/epoch - 10ms/step\n",
      "Epoch 90/100\n",
      "3/3 - 0s - loss: 26294.6602 - val_loss: 27608.8477 - 35ms/epoch - 12ms/step\n",
      "Epoch 91/100\n",
      "3/3 - 0s - loss: 26237.7793 - val_loss: 27547.8340 - 30ms/epoch - 10ms/step\n",
      "Epoch 92/100\n",
      "3/3 - 0s - loss: 26180.0469 - val_loss: 27485.9668 - 33ms/epoch - 11ms/step\n",
      "Epoch 93/100\n",
      "3/3 - 0s - loss: 26121.7305 - val_loss: 27423.7500 - 31ms/epoch - 10ms/step\n",
      "Epoch 94/100\n",
      "3/3 - 0s - loss: 26062.7637 - val_loss: 27360.3223 - 34ms/epoch - 11ms/step\n",
      "Epoch 95/100\n",
      "3/3 - 0s - loss: 26002.7480 - val_loss: 27295.9297 - 32ms/epoch - 11ms/step\n",
      "Epoch 96/100\n",
      "3/3 - 0s - loss: 25941.8613 - val_loss: 27230.8574 - 31ms/epoch - 10ms/step\n",
      "Epoch 97/100\n",
      "3/3 - 0s - loss: 25880.1855 - val_loss: 27164.3926 - 33ms/epoch - 11ms/step\n",
      "Epoch 98/100\n",
      "3/3 - 0s - loss: 25817.6641 - val_loss: 27097.9199 - 31ms/epoch - 10ms/step\n",
      "Epoch 99/100\n",
      "3/3 - 0s - loss: 25755.0957 - val_loss: 27031.4863 - 34ms/epoch - 11ms/step\n",
      "Epoch 100/100\n",
      "3/3 - 0s - loss: 25691.8672 - val_loss: 26963.1094 - 31ms/epoch - 10ms/step\n"
     ]
    }
   ],
   "source": [
    "hist = model.fit(x_train, y_train, validation_split=0.2,\n",
    "                 epochs=100, batch_size=100, verbose=2)"
   ]
  },
  {
   "cell_type": "code",
   "execution_count": 42,
   "metadata": {},
   "outputs": [
    {
     "name": "stdout",
     "output_type": "stream",
     "text": [
      "3/3 [==============================] - 0s 2ms/step\n"
     ]
    }
   ],
   "source": [
    "# 평가\n",
    "pred = model.predict(x_test)"
   ]
  },
  {
   "cell_type": "code",
   "execution_count": 43,
   "metadata": {},
   "outputs": [
    {
     "data": {
      "text/plain": [
       "-2.736718114709162"
      ]
     },
     "execution_count": 43,
     "metadata": {},
     "output_type": "execute_result"
    }
   ],
   "source": [
    "from sklearn.metrics import r2_score\n",
    "r2 = r2_score(y_test, pred.flatten())\n",
    "r2"
   ]
  },
  {
   "cell_type": "code",
   "execution_count": 44,
   "metadata": {},
   "outputs": [
    {
     "data": {
      "text/html": [
       "<div>\n",
       "<style scoped>\n",
       "    .dataframe tbody tr th:only-of-type {\n",
       "        vertical-align: middle;\n",
       "    }\n",
       "\n",
       "    .dataframe tbody tr th {\n",
       "        vertical-align: top;\n",
       "    }\n",
       "\n",
       "    .dataframe thead th {\n",
       "        text-align: right;\n",
       "    }\n",
       "</style>\n",
       "<table border=\"1\" class=\"dataframe\">\n",
       "  <thead>\n",
       "    <tr style=\"text-align: right;\">\n",
       "      <th></th>\n",
       "      <th>pred</th>\n",
       "      <th>y_test</th>\n",
       "    </tr>\n",
       "  </thead>\n",
       "  <tbody>\n",
       "    <tr>\n",
       "      <th>0</th>\n",
       "      <td>10.710149</td>\n",
       "      <td>265.0</td>\n",
       "    </tr>\n",
       "    <tr>\n",
       "      <th>1</th>\n",
       "      <td>12.409788</td>\n",
       "      <td>261.0</td>\n",
       "    </tr>\n",
       "    <tr>\n",
       "      <th>2</th>\n",
       "      <td>9.615556</td>\n",
       "      <td>160.0</td>\n",
       "    </tr>\n",
       "    <tr>\n",
       "      <th>3</th>\n",
       "      <td>12.777245</td>\n",
       "      <td>249.0</td>\n",
       "    </tr>\n",
       "    <tr>\n",
       "      <th>4</th>\n",
       "      <td>9.625099</td>\n",
       "      <td>102.0</td>\n",
       "    </tr>\n",
       "  </tbody>\n",
       "</table>\n",
       "</div>"
      ],
      "text/plain": [
       "        pred  y_test\n",
       "0  10.710149   265.0\n",
       "1  12.409788   261.0\n",
       "2   9.615556   160.0\n",
       "3  12.777245   249.0\n",
       "4   9.625099   102.0"
      ]
     },
     "execution_count": 44,
     "metadata": {},
     "output_type": "execute_result"
    }
   ],
   "source": [
    "import pandas as pd\n",
    "df = pd.DataFrame({'pred':pred.flatten(), 'y_test':y_test})\n",
    "df.head()"
   ]
  },
  {
   "cell_type": "markdown",
   "metadata": {},
   "source": [
    "- 학습과정 시각화"
   ]
  },
  {
   "cell_type": "code",
   "execution_count": 46,
   "metadata": {},
   "outputs": [],
   "source": [
    "y_loss = hist.history['loss']\n",
    "y_vloss = hist.history['val_loss']\n",
    "xs = np.arange(1, len(y_loss) + 1)\n"
   ]
  },
  {
   "cell_type": "code",
   "execution_count": 48,
   "metadata": {},
   "outputs": [
    {
     "data": {
      "image/png": "[encoded data removed]",
      "text/plain": [
       "<Figure size 800x400 with 1 Axes>"
      ]
     },
     "metadata": {},
     "output_type": "display_data"
    }
   ],
   "source": [
    "plt.figure(figsize=(8, 4))\n",
    "plt.plot(xs, y_loss, label='Train-set Loss')\n",
    "plt.plot(xs, y_vloss, label='Validation-set Loss')\n",
    "plt.legend(), plt.grid(), plt.xlabel('Epoch')\n",
    "plt.show()"
   ]
  }
 ],
 "metadata": {
  "kernelspec": {
   "display_name": "base",
   "language": "python",
   "name": "python3"
  },
  "language_info": {
   "codemirror_mode": {
    "name": "ipython",
    "version": 3
   },
   "file_extension": ".py",
   "mimetype": "text/x-python",
   "name": "python",
   "nbconvert_exporter": "python",
   "pygments_lexer": "ipython3",
   "version": "3.11.5"
  }
 },
 "nbformat": 4,
 "nbformat_minor": 2
}
