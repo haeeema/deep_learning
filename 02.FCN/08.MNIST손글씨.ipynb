{
 "cells": [
  {
   "cell_type": "markdown",
   "metadata": {},
   "source": [
    "### MNIST 손글씨 다중분류 - FCN"
   ]
  },
  {
   "cell_type": "code",
   "execution_count": 22,
   "metadata": {},
   "outputs": [],
   "source": [
    "import numpy as np\n",
    "import pandas as pd\n",
    "import matplotlib.pyplot as plt\n",
    "import tensorflow as tf\n",
    "\n",
    "seed = 2023\n",
    "\n",
    "np.random.seed(seed)\n",
    "tf.random.set_seed(seed)\n",
    "import warnings\n",
    "warnings.filterwarnings('ignore')"
   ]
  },
  {
   "cell_type": "markdown",
   "metadata": {},
   "source": [
    "- 데이터 전처리"
   ]
  },
  {
   "cell_type": "code",
   "execution_count": 23,
   "metadata": {},
   "outputs": [],
   "source": [
    "from tensorflow.keras.datasets import mnist\n",
    "(X_train, y_train), (X_test, y_test) = mnist.load_data()"
   ]
  },
  {
   "cell_type": "code",
   "execution_count": 24,
   "metadata": {},
   "outputs": [
    {
     "data": {
      "text/plain": [
       "((60000, 28, 28), (60000,), (10000, 28, 28), (10000,))"
      ]
     },
     "execution_count": 24,
     "metadata": {},
     "output_type": "execute_result"
    }
   ],
   "source": [
    "X_train.shape, y_train.shape, X_test.shape, y_test.shape"
   ]
  },
  {
   "cell_type": "code",
   "execution_count": 25,
   "metadata": {},
   "outputs": [
    {
     "data": {
      "image/png": "[encoded data removed]",
      "text/plain": [
       "<Figure size 640x480 with 1 Axes>"
      ]
     },
     "metadata": {},
     "output_type": "display_data"
    }
   ],
   "source": [
    "plt.imshow(X_train[0], cmap='Greys');"
   ]
  },
  {
   "cell_type": "code",
   "execution_count": 26,
   "metadata": {},
   "outputs": [
    {
     "name": "stdout",
     "output_type": "stream",
     "text": [
      "  0   0   0   0   0   0   0   0   0   0   0   0   0   0   0   0   0   0   0   0   0   0   0   0   0   0   0   0 \n",
      "  0   0   0   0   0   0   0   0   0   0   0   0   0   0   0   0   0   0   0   0   0   0   0   0   0   0   0   0 \n",
      "  0   0   0   0   0   0   0   0   0   0   0   0   0   0   0   0   0   0   0   0   0   0   0   0   0   0   0   0 \n",
      "  0   0   0   0   0   0   0   0   0   0   0   0   0   0   0   0   0   0   0   0   0   0   0   0   0   0   0   0 \n",
      "  0   0   0   0   0   0   0   0   0   0   0   0   0   0   0   0   0   0   0   0   0   0   0   0   0   0   0   0 \n",
      "  0   0   0   0   0   0   0   0   0   0   0   0   3  18  18  18 126 136 175  26 166 255 247 127   0   0   0   0 \n",
      "  0   0   0   0   0   0   0   0  30  36  94 154 170 253 253 253 253 253 225 172 253 242 195  64   0   0   0   0 \n",
      "  0   0   0   0   0   0   0  49 238 253 253 253 253 253 253 253 253 251  93  82  82  56  39   0   0   0   0   0 \n",
      "  0   0   0   0   0   0   0  18 219 253 253 253 253 253 198 182 247 241   0   0   0   0   0   0   0   0   0   0 \n",
      "  0   0   0   0   0   0   0   0  80 156 107 253 253 205  11   0  43 154   0   0   0   0   0   0   0   0   0   0 \n",
      "  0   0   0   0   0   0   0   0   0  14   1 154 253  90   0   0   0   0   0   0   0   0   0   0   0   0   0   0 \n",
      "  0   0   0   0   0   0   0   0   0   0   0 139 253 190   2   0   0   0   0   0   0   0   0   0   0   0   0   0 \n",
      "  0   0   0   0   0   0   0   0   0   0   0  11 190 253  70   0   0   0   0   0   0   0   0   0   0   0   0   0 \n",
      "  0   0   0   0   0   0   0   0   0   0   0   0  35 241 225 160 108   1   0   0   0   0   0   0   0   0   0   0 \n",
      "  0   0   0   0   0   0   0   0   0   0   0   0   0  81 240 253 253 119  25   0   0   0   0   0   0   0   0   0 \n",
      "  0   0   0   0   0   0   0   0   0   0   0   0   0   0  45 186 253 253 150  27   0   0   0   0   0   0   0   0 \n",
      "  0   0   0   0   0   0   0   0   0   0   0   0   0   0   0  16  93 252 253 187   0   0   0   0   0   0   0   0 \n",
      "  0   0   0   0   0   0   0   0   0   0   0   0   0   0   0   0   0 249 253 249  64   0   0   0   0   0   0   0 \n",
      "  0   0   0   0   0   0   0   0   0   0   0   0   0   0  46 130 183 253 253 207   2   0   0   0   0   0   0   0 \n",
      "  0   0   0   0   0   0   0   0   0   0   0   0  39 148 229 253 253 253 250 182   0   0   0   0   0   0   0   0 \n",
      "  0   0   0   0   0   0   0   0   0   0  24 114 221 253 253 253 253 201  78   0   0   0   0   0   0   0   0   0 \n",
      "  0   0   0   0   0   0   0   0  23  66 213 253 253 253 253 198  81   2   0   0   0   0   0   0   0   0   0   0 \n",
      "  0   0   0   0   0   0  18 171 219 253 253 253 253 195  80   9   0   0   0   0   0   0   0   0   0   0   0   0 \n",
      "  0   0   0   0  55 172 226 253 253 253 253 244 133  11   0   0   0   0   0   0   0   0   0   0   0   0   0   0 \n",
      "  0   0   0   0 136 253 253 253 212 135 132  16   0   0   0   0   0   0   0   0   0   0   0   0   0   0   0   0 \n",
      "  0   0   0   0   0   0   0   0   0   0   0   0   0   0   0   0   0   0   0   0   0   0   0   0   0   0   0   0 \n",
      "  0   0   0   0   0   0   0   0   0   0   0   0   0   0   0   0   0   0   0   0   0   0   0   0   0   0   0   0 \n",
      "  0   0   0   0   0   0   0   0   0   0   0   0   0   0   0   0   0   0   0   0   0   0   0   0   0   0   0   0 \n"
     ]
    }
   ],
   "source": [
    "import sys\n",
    "for row in X_train[0]:\n",
    "    for col in row:\n",
    "        sys.stdout.write(f'{col:3d} ')\n",
    "    sys.stdout.write('\\n')"
   ]
  },
  {
   "cell_type": "code",
   "execution_count": 27,
   "metadata": {},
   "outputs": [],
   "source": [
    "# X scaling\n",
    "# 이미지는 0~255의 값을 가지는데, 이를 0~1 사이의 값으로 변환\n",
    "X_train = X_train / 255.\n",
    "X_test = X_test / 255.\n"
   ]
  },
  {
   "cell_type": "code",
   "execution_count": 28,
   "metadata": {},
   "outputs": [
    {
     "data": {
      "text/plain": [
       "((60000, 784), (10000, 784))"
      ]
     },
     "execution_count": 28,
     "metadata": {},
     "output_type": "execute_result"
    }
   ],
   "source": [
    "# Fully Connected Network(Dense layer)은 1차원 데이터만 처리 가능\n",
    "X_train = X_train.reshape(-1, 784)\n",
    "X_test = X_test.reshape(-1, 784)\n",
    "X_train.shape, X_test.shape"
   ]
  },
  {
   "cell_type": "code",
   "execution_count": 29,
   "metadata": {},
   "outputs": [
    {
     "data": {
      "text/plain": [
       "(array([0, 1, 2, 3, 4, 5, 6, 7, 8, 9], dtype=uint8),\n",
       " array([5923, 6742, 5958, 6131, 5842, 5421, 5918, 6265, 5851, 5949],\n",
       "       dtype=int64))"
      ]
     },
     "execution_count": 29,
     "metadata": {},
     "output_type": "execute_result"
    }
   ],
   "source": [
    "# y 값의 분포\n",
    "np.unique(y_train, return_counts=True)"
   ]
  },
  {
   "cell_type": "code",
   "execution_count": 30,
   "metadata": {},
   "outputs": [
    {
     "data": {
      "text/plain": [
       "((60000, 10), (10000, 10))"
      ]
     },
     "execution_count": 30,
     "metadata": {},
     "output_type": "execute_result"
    }
   ],
   "source": [
    "# One hot encoding\n",
    "from tensorflow.keras.utils import to_categorical\n",
    "Y_train = to_categorical(y_train)\n",
    "Y_test = to_categorical(y_test)\n",
    "Y_train.shape, Y_test.shape"
   ]
  },
  {
   "cell_type": "markdown",
   "metadata": {},
   "source": [
    "- 모델 정의/설정/학습/평가"
   ]
  },
  {
   "cell_type": "code",
   "execution_count": 31,
   "metadata": {},
   "outputs": [],
   "source": [
    "from tensorflow.keras.models import Sequential, load_model\n",
    "from tensorflow.keras.layers import Dense, Dropout\n",
    "from tensorflow.keras.callbacks import ModelCheckpoint, EarlyStopping"
   ]
  },
  {
   "cell_type": "code",
   "execution_count": 32,
   "metadata": {},
   "outputs": [
    {
     "name": "stdout",
     "output_type": "stream",
     "text": [
      "Model: \"sequential_2\"\n",
      "_________________________________________________________________\n",
      " Layer (type)                Output Shape              Param #   \n",
      "=================================================================\n",
      " dense_9 (Dense)             (None, 1000)              785000    \n",
      "                                                                 \n",
      " dense_10 (Dense)            (None, 256)               256256    \n",
      "                                                                 \n",
      " dense_11 (Dense)            (None, 48)                12336     \n",
      "                                                                 \n",
      " dense_12 (Dense)            (None, 10)                490       \n",
      "                                                                 \n",
      "=================================================================\n",
      "Total params: 1054082 (4.02 MB)\n",
      "Trainable params: 1054082 (4.02 MB)\n",
      "Non-trainable params: 0 (0.00 Byte)\n",
      "_________________________________________________________________\n"
     ]
    }
   ],
   "source": [
    "model = Sequential([\n",
    "    Dense(1000, input_dim=784, activation='relu'),\n",
    "    Dense(256, activation='relu'),\n",
    "    Dense(48, activation='relu'),\n",
    "    Dense(10, activation='softmax')\n",
    "])\n",
    "model.summary()"
   ]
  },
  {
   "cell_type": "code",
   "execution_count": 33,
   "metadata": {},
   "outputs": [],
   "source": [
    "model.compile(optimizer='adam', loss='categorical_crossentropy', metrics=['accuracy'])"
   ]
  },
  {
   "cell_type": "code",
   "execution_count": 34,
   "metadata": {},
   "outputs": [
    {
     "name": "stdout",
     "output_type": "stream",
     "text": [
      "Epoch 1/100\n",
      "188/188 [==============================] - ETA: 0s - loss: 0.3034 - accuracy: 0.9121\n",
      "Epoch 1: val_loss improved from inf to 0.12942, saving model to models\\best_mnist.h5\n",
      "188/188 [==============================] - 5s 22ms/step - loss: 0.3034 - accuracy: 0.9121 - val_loss: 0.1294 - val_accuracy: 0.9627\n",
      "Epoch 2/100\n",
      "186/188 [============================>.] - ETA: 0s - loss: 0.1016 - accuracy: 0.9691\n",
      "Epoch 2: val_loss improved from 0.12942 to 0.09319, saving model to models\\best_mnist.h5\n",
      "188/188 [==============================] - 4s 21ms/step - loss: 0.1013 - accuracy: 0.9692 - val_loss: 0.0932 - val_accuracy: 0.9716\n",
      "Epoch 3/100\n",
      "187/188 [============================>.] - ETA: 0s - loss: 0.0609 - accuracy: 0.9819\n",
      "Epoch 3: val_loss improved from 0.09319 to 0.08901, saving model to models\\best_mnist.h5\n",
      "188/188 [==============================] - 4s 21ms/step - loss: 0.0608 - accuracy: 0.9819 - val_loss: 0.0890 - val_accuracy: 0.9746\n",
      "Epoch 4/100\n",
      "186/188 [============================>.] - ETA: 0s - loss: 0.0404 - accuracy: 0.9878\n",
      "Epoch 4: val_loss improved from 0.08901 to 0.08833, saving model to models\\best_mnist.h5\n",
      "188/188 [==============================] - 4s 22ms/step - loss: 0.0402 - accuracy: 0.9879 - val_loss: 0.0883 - val_accuracy: 0.9741\n",
      "Epoch 5/100\n",
      "187/188 [============================>.] - ETA: 0s - loss: 0.0296 - accuracy: 0.9907\n",
      "Epoch 5: val_loss improved from 0.08833 to 0.08266, saving model to models\\best_mnist.h5\n",
      "188/188 [==============================] - 4s 22ms/step - loss: 0.0296 - accuracy: 0.9908 - val_loss: 0.0827 - val_accuracy: 0.9750\n",
      "Epoch 6/100\n",
      "186/188 [============================>.] - ETA: 0s - loss: 0.0221 - accuracy: 0.9930\n",
      "Epoch 6: val_loss improved from 0.08266 to 0.07801, saving model to models\\best_mnist.h5\n",
      "188/188 [==============================] - 4s 21ms/step - loss: 0.0221 - accuracy: 0.9930 - val_loss: 0.0780 - val_accuracy: 0.9772\n",
      "Epoch 7/100\n",
      "186/188 [============================>.] - ETA: 0s - loss: 0.0161 - accuracy: 0.9950\n",
      "Epoch 7: val_loss did not improve from 0.07801\n",
      "188/188 [==============================] - 4s 21ms/step - loss: 0.0160 - accuracy: 0.9950 - val_loss: 0.0932 - val_accuracy: 0.9777\n",
      "Epoch 8/100\n",
      "186/188 [============================>.] - ETA: 0s - loss: 0.0115 - accuracy: 0.9963\n",
      "Epoch 8: val_loss did not improve from 0.07801\n",
      "188/188 [==============================] - 4s 21ms/step - loss: 0.0116 - accuracy: 0.9963 - val_loss: 0.1067 - val_accuracy: 0.9742\n",
      "Epoch 9/100\n",
      "187/188 [============================>.] - ETA: 0s - loss: 0.0161 - accuracy: 0.9944\n",
      "Epoch 9: val_loss did not improve from 0.07801\n",
      "188/188 [==============================] - 4s 21ms/step - loss: 0.0161 - accuracy: 0.9944 - val_loss: 0.0976 - val_accuracy: 0.9758\n",
      "Epoch 10/100\n",
      "188/188 [==============================] - ETA: 0s - loss: 0.0148 - accuracy: 0.9950\n",
      "Epoch 10: val_loss did not improve from 0.07801\n",
      "188/188 [==============================] - 4s 21ms/step - loss: 0.0148 - accuracy: 0.9950 - val_loss: 0.1030 - val_accuracy: 0.9763\n",
      "Epoch 11/100\n",
      "188/188 [==============================] - ETA: 0s - loss: 0.0113 - accuracy: 0.9961\n",
      "Epoch 11: val_loss did not improve from 0.07801\n",
      "188/188 [==============================] - 4s 21ms/step - loss: 0.0113 - accuracy: 0.9961 - val_loss: 0.0930 - val_accuracy: 0.9797\n"
     ]
    }
   ],
   "source": [
    "mc = ModelCheckpoint('models/best_mnist.h5', verbose=1, save_best_only=True)\n",
    "es = EarlyStopping(patience=5)\n",
    "hist = model.fit(X_train, Y_train, validation_split=0.2, epochs=100, batch_size=256, verbose=1,\n",
    "                 callbacks=[mc, es])"
   ]
  },
  {
   "cell_type": "code",
   "execution_count": 35,
   "metadata": {},
   "outputs": [
    {
     "name": "stdout",
     "output_type": "stream",
     "text": [
      "313/313 [==============================] - 1s 3ms/step - loss: 0.0744 - accuracy: 0.9791\n"
     ]
    },
    {
     "data": {
      "text/plain": [
       "[0.07441125810146332, 0.9790999889373779]"
      ]
     },
     "execution_count": 35,
     "metadata": {},
     "output_type": "execute_result"
    }
   ],
   "source": [
    "best_model = load_model('models/best_mnist.h5')\n",
    "best_model.evaluate(X_test, Y_test)"
   ]
  },
  {
   "cell_type": "markdown",
   "metadata": {},
   "source": [
    "- 시각화"
   ]
  },
  {
   "cell_type": "code",
   "execution_count": 36,
   "metadata": {},
   "outputs": [],
   "source": [
    "y_acc = hist.history['accuracy']\n",
    "y_vloss = hist.history['val_loss']\n",
    "x_len = np.arange(len(y_acc))"
   ]
  },
  {
   "cell_type": "code",
   "execution_count": 37,
   "metadata": {},
   "outputs": [
    {
     "data": {
      "image/png": "[encoded data removed]",
      "text/plain": [
       "<Figure size 1200x800 with 1 Axes>"
      ]
     },
     "metadata": {},
     "output_type": "display_data"
    }
   ],
   "source": [
    "plt.figure(figsize=(12, 8))\n",
    "plt.plot(x_len, y_acc, c='red', label='Train Accuracy')\n",
    "plt.plot(x_len, y_vloss, c='blue', label='Validation Loss')\n",
    "plt.legend()\n",
    "plt.show()"
   ]
  },
  {
   "cell_type": "code",
   "execution_count": null,
   "metadata": {},
   "outputs": [],
   "source": []
  }
 ],
 "metadata": {
  "kernelspec": {
   "display_name": "base",
   "language": "python",
   "name": "python3"
  },
  "language_info": {
   "codemirror_mode": {
    "name": "ipython",
    "version": 3
   },
   "file_extension": ".py",
   "mimetype": "text/x-python",
   "name": "python",
   "nbconvert_exporter": "python",
   "pygments_lexer": "ipython3",
   "version": "3.11.5"
  }
 },
 "nbformat": 4,
 "nbformat_minor": 2
}
